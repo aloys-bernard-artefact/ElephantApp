{
 "cells": [
  {
   "cell_type": "markdown",
   "id": "8af8af5c",
   "metadata": {},
   "source": [
    "# Imports"
   ]
  },
  {
   "cell_type": "code",
   "execution_count": 2,
   "id": "9e151a84",
   "metadata": {
    "ExecuteTime": {
     "end_time": "2024-09-05T12:09:37.176152Z",
     "start_time": "2024-09-05T12:09:35.818061Z"
    }
   },
   "outputs": [],
   "source": [
    "import pandas as pd \n",
    "import numpy as np \n"
   ]
  },
  {
   "cell_type": "markdown",
   "id": "e5b5393e",
   "metadata": {},
   "source": [
    "# Loading Data"
   ]
  },
  {
   "cell_type": "code",
   "execution_count": 3,
   "id": "bb42cbba",
   "metadata": {},
   "outputs": [
    {
     "name": "stdout",
     "output_type": "stream",
     "text": [
      "LICENSE             \u001b[1m\u001b[36mdata\u001b[m\u001b[m                \u001b[1m\u001b[36mmetrics\u001b[m\u001b[m             pytest.ini\n",
      "Makefile            docker-compose.yaml \u001b[1m\u001b[36mmodels\u001b[m\u001b[m              requirements.txt\n",
      "README.md           \u001b[1m\u001b[36mfront\u001b[m\u001b[m               \u001b[1m\u001b[36mnotebooks\u001b[m\u001b[m           \u001b[1m\u001b[36msrc\u001b[m\u001b[m\n",
      "\u001b[1m\u001b[36mapi\u001b[m\u001b[m                 \u001b[1m\u001b[36mlogs\u001b[m\u001b[m                pyproject.toml      \u001b[1m\u001b[36mtests\u001b[m\u001b[m\n"
     ]
    }
   ],
   "source": [
    "! ls .."
   ]
  },
  {
   "cell_type": "code",
   "execution_count": 7,
   "id": "83ce5954",
   "metadata": {
    "ExecuteTime": {
     "end_time": "2024-09-05T12:09:37.372030Z",
     "start_time": "2024-09-05T12:09:37.177151Z"
    }
   },
   "outputs": [
    {
     "name": "stdout",
     "output_type": "stream",
     "text": [
      "Saving the data in the data folder\n",
      "(1460, 81)\n"
     ]
    }
   ],
   "source": [
    "\n",
    "\n",
    "\n",
    "from sklearn.model_selection import train_test_split\n",
    "\n",
    "from modelisation.data import load_data\n",
    "df = load_data()\n"
   ]
  },
  {
   "cell_type": "code",
   "execution_count": 9,
   "id": "99fe9ac6",
   "metadata": {},
   "outputs": [
    {
     "name": "stdout",
     "output_type": "stream",
     "text": [
      "{\n",
      "\"Id\":[1],\n",
      "\"MSSubClass\":[60],\n",
      "\"MSZoning\":[RL],\n",
      "\"LotFrontage\":[65.0],\n",
      "\"LotArea\":[8450],\n",
      "\"Street\":[Pave],\n",
      "\"Alley\":[nan],\n",
      "\"LotShape\":[Reg],\n",
      "\"LandContour\":[Lvl],\n",
      "\"Utilities\":[AllPub],\n",
      "\"LotConfig\":[Inside],\n",
      "\"LandSlope\":[Gtl],\n",
      "\"Neighborhood\":[CollgCr],\n",
      "\"Condition1\":[Norm],\n",
      "\"Condition2\":[Norm],\n",
      "\"BldgType\":[1Fam],\n",
      "\"HouseStyle\":[2Story],\n",
      "\"OverallQual\":[7],\n",
      "\"OverallCond\":[5],\n",
      "\"YearBuilt\":[2003],\n",
      "\"YearRemodAdd\":[2003],\n",
      "\"RoofStyle\":[Gable],\n",
      "\"RoofMatl\":[CompShg],\n",
      "\"Exterior1st\":[VinylSd],\n",
      "\"Exterior2nd\":[VinylSd],\n",
      "\"MasVnrType\":[BrkFace],\n",
      "\"MasVnrArea\":[196.0],\n",
      "\"ExterQual\":[Gd],\n",
      "\"ExterCond\":[TA],\n",
      "\"Foundation\":[PConc],\n",
      "\"BsmtQual\":[Gd],\n",
      "\"BsmtCond\":[TA],\n",
      "\"BsmtExposure\":[No],\n",
      "\"BsmtFinType1\":[GLQ],\n",
      "\"BsmtFinSF1\":[706],\n",
      "\"BsmtFinType2\":[Unf],\n",
      "\"BsmtFinSF2\":[0],\n",
      "\"BsmtUnfSF\":[150],\n",
      "\"TotalBsmtSF\":[856],\n",
      "\"Heating\":[GasA],\n",
      "\"HeatingQC\":[Ex],\n",
      "\"CentralAir\":[Y],\n",
      "\"Electrical\":[SBrkr],\n",
      "\"1stFlrSF\":[856],\n",
      "\"2ndFlrSF\":[854],\n",
      "\"LowQualFinSF\":[0],\n",
      "\"GrLivArea\":[1710],\n",
      "\"BsmtFullBath\":[1],\n",
      "\"BsmtHalfBath\":[0],\n",
      "\"FullBath\":[2],\n",
      "\"HalfBath\":[1],\n",
      "\"BedroomAbvGr\":[3],\n",
      "\"KitchenAbvGr\":[1],\n",
      "\"KitchenQual\":[Gd],\n",
      "\"TotRmsAbvGrd\":[8],\n",
      "\"Functional\":[Typ],\n",
      "\"Fireplaces\":[0],\n",
      "\"FireplaceQu\":[nan],\n",
      "\"GarageType\":[Attchd],\n",
      "\"GarageYrBlt\":[2003.0],\n",
      "\"GarageFinish\":[RFn],\n",
      "\"GarageCars\":[2],\n",
      "\"GarageArea\":[548],\n",
      "\"GarageQual\":[TA],\n",
      "\"GarageCond\":[TA],\n",
      "\"PavedDrive\":[Y],\n",
      "\"WoodDeckSF\":[0],\n",
      "\"OpenPorchSF\":[61],\n",
      "\"EnclosedPorch\":[0],\n",
      "\"3SsnPorch\":[0],\n",
      "\"ScreenPorch\":[0],\n",
      "\"PoolArea\":[0],\n",
      "\"PoolQC\":[nan],\n",
      "\"Fence\":[nan],\n",
      "\"MiscFeature\":[nan],\n",
      "\"MiscVal\":[0],\n",
      "\"MoSold\":[2],\n",
      "\"YrSold\":[2008],\n",
      "\"SaleType\":[WD],\n",
      "\"SaleCondition\":[Normal],\n",
      "}\n"
     ]
    },
    {
     "data": {
      "text/html": [
       "<div>\n",
       "<style scoped>\n",
       "    .dataframe tbody tr th:only-of-type {\n",
       "        vertical-align: middle;\n",
       "    }\n",
       "\n",
       "    .dataframe tbody tr th {\n",
       "        vertical-align: top;\n",
       "    }\n",
       "\n",
       "    .dataframe thead th {\n",
       "        text-align: right;\n",
       "    }\n",
       "</style>\n",
       "<table border=\"1\" class=\"dataframe\">\n",
       "  <thead>\n",
       "    <tr style=\"text-align: right;\">\n",
       "      <th></th>\n",
       "      <th>Id</th>\n",
       "      <th>MSSubClass</th>\n",
       "      <th>MSZoning</th>\n",
       "      <th>LotFrontage</th>\n",
       "      <th>LotArea</th>\n",
       "      <th>Street</th>\n",
       "      <th>Alley</th>\n",
       "      <th>LotShape</th>\n",
       "      <th>LandContour</th>\n",
       "      <th>Utilities</th>\n",
       "      <th>...</th>\n",
       "      <th>PoolArea</th>\n",
       "      <th>PoolQC</th>\n",
       "      <th>Fence</th>\n",
       "      <th>MiscFeature</th>\n",
       "      <th>MiscVal</th>\n",
       "      <th>MoSold</th>\n",
       "      <th>YrSold</th>\n",
       "      <th>SaleType</th>\n",
       "      <th>SaleCondition</th>\n",
       "      <th>SalePrice</th>\n",
       "    </tr>\n",
       "  </thead>\n",
       "  <tbody>\n",
       "    <tr>\n",
       "      <th>0</th>\n",
       "      <td>1</td>\n",
       "      <td>60</td>\n",
       "      <td>RL</td>\n",
       "      <td>65.0</td>\n",
       "      <td>8450</td>\n",
       "      <td>Pave</td>\n",
       "      <td>NaN</td>\n",
       "      <td>Reg</td>\n",
       "      <td>Lvl</td>\n",
       "      <td>AllPub</td>\n",
       "      <td>...</td>\n",
       "      <td>0</td>\n",
       "      <td>NaN</td>\n",
       "      <td>NaN</td>\n",
       "      <td>NaN</td>\n",
       "      <td>0</td>\n",
       "      <td>2</td>\n",
       "      <td>2008</td>\n",
       "      <td>WD</td>\n",
       "      <td>Normal</td>\n",
       "      <td>208500</td>\n",
       "    </tr>\n",
       "    <tr>\n",
       "      <th>1</th>\n",
       "      <td>2</td>\n",
       "      <td>20</td>\n",
       "      <td>RL</td>\n",
       "      <td>80.0</td>\n",
       "      <td>9600</td>\n",
       "      <td>Pave</td>\n",
       "      <td>NaN</td>\n",
       "      <td>Reg</td>\n",
       "      <td>Lvl</td>\n",
       "      <td>AllPub</td>\n",
       "      <td>...</td>\n",
       "      <td>0</td>\n",
       "      <td>NaN</td>\n",
       "      <td>NaN</td>\n",
       "      <td>NaN</td>\n",
       "      <td>0</td>\n",
       "      <td>5</td>\n",
       "      <td>2007</td>\n",
       "      <td>WD</td>\n",
       "      <td>Normal</td>\n",
       "      <td>181500</td>\n",
       "    </tr>\n",
       "    <tr>\n",
       "      <th>2</th>\n",
       "      <td>3</td>\n",
       "      <td>60</td>\n",
       "      <td>RL</td>\n",
       "      <td>68.0</td>\n",
       "      <td>11250</td>\n",
       "      <td>Pave</td>\n",
       "      <td>NaN</td>\n",
       "      <td>IR1</td>\n",
       "      <td>Lvl</td>\n",
       "      <td>AllPub</td>\n",
       "      <td>...</td>\n",
       "      <td>0</td>\n",
       "      <td>NaN</td>\n",
       "      <td>NaN</td>\n",
       "      <td>NaN</td>\n",
       "      <td>0</td>\n",
       "      <td>9</td>\n",
       "      <td>2008</td>\n",
       "      <td>WD</td>\n",
       "      <td>Normal</td>\n",
       "      <td>223500</td>\n",
       "    </tr>\n",
       "    <tr>\n",
       "      <th>3</th>\n",
       "      <td>4</td>\n",
       "      <td>70</td>\n",
       "      <td>RL</td>\n",
       "      <td>60.0</td>\n",
       "      <td>9550</td>\n",
       "      <td>Pave</td>\n",
       "      <td>NaN</td>\n",
       "      <td>IR1</td>\n",
       "      <td>Lvl</td>\n",
       "      <td>AllPub</td>\n",
       "      <td>...</td>\n",
       "      <td>0</td>\n",
       "      <td>NaN</td>\n",
       "      <td>NaN</td>\n",
       "      <td>NaN</td>\n",
       "      <td>0</td>\n",
       "      <td>2</td>\n",
       "      <td>2006</td>\n",
       "      <td>WD</td>\n",
       "      <td>Abnorml</td>\n",
       "      <td>140000</td>\n",
       "    </tr>\n",
       "    <tr>\n",
       "      <th>4</th>\n",
       "      <td>5</td>\n",
       "      <td>60</td>\n",
       "      <td>RL</td>\n",
       "      <td>84.0</td>\n",
       "      <td>14260</td>\n",
       "      <td>Pave</td>\n",
       "      <td>NaN</td>\n",
       "      <td>IR1</td>\n",
       "      <td>Lvl</td>\n",
       "      <td>AllPub</td>\n",
       "      <td>...</td>\n",
       "      <td>0</td>\n",
       "      <td>NaN</td>\n",
       "      <td>NaN</td>\n",
       "      <td>NaN</td>\n",
       "      <td>0</td>\n",
       "      <td>12</td>\n",
       "      <td>2008</td>\n",
       "      <td>WD</td>\n",
       "      <td>Normal</td>\n",
       "      <td>250000</td>\n",
       "    </tr>\n",
       "  </tbody>\n",
       "</table>\n",
       "<p>5 rows × 81 columns</p>\n",
       "</div>"
      ],
      "text/plain": [
       "   Id  MSSubClass MSZoning  LotFrontage  LotArea Street Alley LotShape  \\\n",
       "0   1          60       RL         65.0     8450   Pave   NaN      Reg   \n",
       "1   2          20       RL         80.0     9600   Pave   NaN      Reg   \n",
       "2   3          60       RL         68.0    11250   Pave   NaN      IR1   \n",
       "3   4          70       RL         60.0     9550   Pave   NaN      IR1   \n",
       "4   5          60       RL         84.0    14260   Pave   NaN      IR1   \n",
       "\n",
       "  LandContour Utilities  ... PoolArea PoolQC Fence MiscFeature MiscVal MoSold  \\\n",
       "0         Lvl    AllPub  ...        0    NaN   NaN         NaN       0      2   \n",
       "1         Lvl    AllPub  ...        0    NaN   NaN         NaN       0      5   \n",
       "2         Lvl    AllPub  ...        0    NaN   NaN         NaN       0      9   \n",
       "3         Lvl    AllPub  ...        0    NaN   NaN         NaN       0      2   \n",
       "4         Lvl    AllPub  ...        0    NaN   NaN         NaN       0     12   \n",
       "\n",
       "  YrSold  SaleType  SaleCondition  SalePrice  \n",
       "0   2008        WD         Normal     208500  \n",
       "1   2007        WD         Normal     181500  \n",
       "2   2008        WD         Normal     223500  \n",
       "3   2006        WD        Abnorml     140000  \n",
       "4   2008        WD         Normal     250000  \n",
       "\n",
       "[5 rows x 81 columns]"
      ]
     },
     "execution_count": 9,
     "metadata": {},
     "output_type": "execute_result"
    }
   ],
   "source": [
    "# create json :\n",
    "df.iloc[0,:-1]\n",
    "print(\"{\")\n",
    "for col,value in df.iloc[0,:-1].items():\n",
    "    print(f'\\\"{col}\\\":\"[{value}]\",')\n",
    "print(\"}\")\n",
    "df.head()\n",
    "    "
   ]
  },
  {
   "cell_type": "code",
   "execution_count": 40,
   "id": "5fc89f18",
   "metadata": {
    "ExecuteTime": {
     "end_time": "2024-09-05T12:09:37.388614Z",
     "start_time": "2024-09-05T12:09:37.373604Z"
    }
   },
   "outputs": [
    {
     "name": "stdout",
     "output_type": "stream",
     "text": [
      "(1094, 75)\n"
     ]
    },
    {
     "data": {
      "text/plain": [
       "Index(['Id', 'MSSubClass', 'MSZoning', 'LotFrontage', 'LotArea', 'Street',\n",
       "       'LotShape', 'LandContour', 'Utilities', 'LotConfig', 'LandSlope',\n",
       "       'Neighborhood', 'Condition1', 'Condition2', 'BldgType', 'HouseStyle',\n",
       "       'OverallQual', 'OverallCond', 'YearBuilt', 'YearRemodAdd', 'RoofStyle',\n",
       "       'RoofMatl', 'Exterior1st', 'Exterior2nd', 'MasVnrArea', 'ExterQual',\n",
       "       'ExterCond', 'Foundation', 'BsmtQual', 'BsmtCond', 'BsmtExposure',\n",
       "       'BsmtFinType1', 'BsmtFinSF1', 'BsmtFinType2', 'BsmtFinSF2', 'BsmtUnfSF',\n",
       "       'TotalBsmtSF', 'Heating', 'HeatingQC', 'CentralAir', 'Electrical',\n",
       "       '1stFlrSF', '2ndFlrSF', 'LowQualFinSF', 'GrLivArea', 'BsmtFullBath',\n",
       "       'BsmtHalfBath', 'FullBath', 'HalfBath', 'BedroomAbvGr', 'KitchenAbvGr',\n",
       "       'KitchenQual', 'TotRmsAbvGrd', 'Functional', 'Fireplaces', 'GarageType',\n",
       "       'GarageYrBlt', 'GarageFinish', 'GarageCars', 'GarageArea', 'GarageQual',\n",
       "       'GarageCond', 'PavedDrive', 'WoodDeckSF', 'OpenPorchSF',\n",
       "       'EnclosedPorch', '3SsnPorch', 'ScreenPorch', 'PoolArea', 'MiscVal',\n",
       "       'MoSold', 'YrSold', 'SaleType', 'SaleCondition', 'SalePrice'],\n",
       "      dtype='object')"
      ]
     },
     "execution_count": 40,
     "metadata": {},
     "output_type": "execute_result"
    }
   ],
   "source": [
    "# Remove columns if they contain more than 30% missing values\n",
    "df.dropna(thresh=0.7*df.shape[0], axis=1, inplace=True)\n",
    "# Remove rows if they contain missing values\n",
    "df.dropna(axis=0, inplace=True)\n",
    "# Remove duplicates\n",
    "df.drop_duplicates(inplace=True)\n",
    "print(df.shape)\n",
    "df.columns"
   ]
  },
  {
   "cell_type": "markdown",
   "id": "d5921001",
   "metadata": {},
   "source": [
    "# Preprocessing"
   ]
  },
  {
   "cell_type": "code",
   "execution_count": 11,
   "id": "e5ceeb5c",
   "metadata": {
    "ExecuteTime": {
     "end_time": "2024-09-05T12:09:37.392720Z",
     "start_time": "2024-09-05T12:09:37.389570Z"
    }
   },
   "outputs": [],
   "source": [
    "y_train = train_df.pop(\"SalePrice\")\n",
    "y_test = test_df.pop(\"SalePrice\")"
   ]
  },
  {
   "cell_type": "code",
   "execution_count": 12,
   "id": "eb8bb50a",
   "metadata": {
    "ExecuteTime": {
     "end_time": "2024-09-05T12:09:37.398360Z",
     "start_time": "2024-09-05T12:09:37.393733Z"
    }
   },
   "outputs": [],
   "source": [
    "train_df_num = train_df.select_dtypes(\"number\").set_index(\"Id\")\n",
    "train_df_cat = train_df.select_dtypes(\"object\")\n",
    "test_df_num = test_df.select_dtypes(\"number\").set_index(\"Id\")\n",
    "test_df_cat = test_df.select_dtypes(\"object\")\n"
   ]
  },
  {
   "cell_type": "markdown",
   "id": "4efd0116",
   "metadata": {},
   "source": [
    "## Numeric Preprocessing"
   ]
  },
  {
   "cell_type": "markdown",
   "id": "993f418b",
   "metadata": {},
   "source": [
    "### Scaling"
   ]
  },
  {
   "cell_type": "code",
   "execution_count": 13,
   "id": "3221e19f",
   "metadata": {
    "ExecuteTime": {
     "end_time": "2024-09-05T12:09:37.414839Z",
     "start_time": "2024-09-05T12:09:37.399231Z"
    }
   },
   "outputs": [
    {
     "data": {
      "text/html": [
       "<div>\n",
       "<style scoped>\n",
       "    .dataframe tbody tr th:only-of-type {\n",
       "        vertical-align: middle;\n",
       "    }\n",
       "\n",
       "    .dataframe tbody tr th {\n",
       "        vertical-align: top;\n",
       "    }\n",
       "\n",
       "    .dataframe thead th {\n",
       "        text-align: right;\n",
       "    }\n",
       "</style>\n",
       "<table border=\"1\" class=\"dataframe\">\n",
       "  <thead>\n",
       "    <tr style=\"text-align: right;\">\n",
       "      <th></th>\n",
       "      <th>MSSubClass</th>\n",
       "      <th>LotFrontage</th>\n",
       "      <th>LotArea</th>\n",
       "      <th>OverallQual</th>\n",
       "      <th>OverallCond</th>\n",
       "      <th>YearBuilt</th>\n",
       "      <th>YearRemodAdd</th>\n",
       "      <th>MasVnrArea</th>\n",
       "      <th>BsmtFinSF1</th>\n",
       "      <th>BsmtFinSF2</th>\n",
       "      <th>...</th>\n",
       "      <th>GarageArea</th>\n",
       "      <th>WoodDeckSF</th>\n",
       "      <th>OpenPorchSF</th>\n",
       "      <th>EnclosedPorch</th>\n",
       "      <th>3SsnPorch</th>\n",
       "      <th>ScreenPorch</th>\n",
       "      <th>PoolArea</th>\n",
       "      <th>MiscVal</th>\n",
       "      <th>MoSold</th>\n",
       "      <th>YrSold</th>\n",
       "    </tr>\n",
       "  </thead>\n",
       "  <tbody>\n",
       "    <tr>\n",
       "      <th>0</th>\n",
       "      <td>1.475911</td>\n",
       "      <td>-1.086855</td>\n",
       "      <td>-0.683950</td>\n",
       "      <td>0.637073</td>\n",
       "      <td>-0.515364</td>\n",
       "      <td>1.107889</td>\n",
       "      <td>1.020374</td>\n",
       "      <td>-0.520898</td>\n",
       "      <td>-0.944261</td>\n",
       "      <td>-0.284678</td>\n",
       "      <td>...</td>\n",
       "      <td>-0.192617</td>\n",
       "      <td>0.458853</td>\n",
       "      <td>-0.428838</td>\n",
       "      <td>-0.344584</td>\n",
       "      <td>-0.121808</td>\n",
       "      <td>-0.280154</td>\n",
       "      <td>-0.073333</td>\n",
       "      <td>-0.123489</td>\n",
       "      <td>-0.508139</td>\n",
       "      <td>0.137143</td>\n",
       "    </tr>\n",
       "    <tr>\n",
       "      <th>1</th>\n",
       "      <td>-0.871228</td>\n",
       "      <td>0.301747</td>\n",
       "      <td>-0.054883</td>\n",
       "      <td>-0.094926</td>\n",
       "      <td>0.390453</td>\n",
       "      <td>0.094543</td>\n",
       "      <td>0.682585</td>\n",
       "      <td>-0.025462</td>\n",
       "      <td>0.469362</td>\n",
       "      <td>2.166141</td>\n",
       "      <td>...</td>\n",
       "      <td>0.030695</td>\n",
       "      <td>1.295148</td>\n",
       "      <td>-0.718262</td>\n",
       "      <td>-0.344584</td>\n",
       "      <td>-0.121808</td>\n",
       "      <td>-0.280154</td>\n",
       "      <td>15.000378</td>\n",
       "      <td>-0.123489</td>\n",
       "      <td>-2.000860</td>\n",
       "      <td>-1.372124</td>\n",
       "    </tr>\n",
       "    <tr>\n",
       "      <th>2</th>\n",
       "      <td>-0.167086</td>\n",
       "      <td>-0.412391</td>\n",
       "      <td>-0.152524</td>\n",
       "      <td>-0.094926</td>\n",
       "      <td>-0.515364</td>\n",
       "      <td>-1.049557</td>\n",
       "      <td>-1.681937</td>\n",
       "      <td>-0.602500</td>\n",
       "      <td>-0.533502</td>\n",
       "      <td>-0.284678</td>\n",
       "      <td>...</td>\n",
       "      <td>-0.938576</td>\n",
       "      <td>-0.738046</td>\n",
       "      <td>-0.718262</td>\n",
       "      <td>-0.344584</td>\n",
       "      <td>-0.121808</td>\n",
       "      <td>-0.280154</td>\n",
       "      <td>-0.073333</td>\n",
       "      <td>-0.123489</td>\n",
       "      <td>1.357763</td>\n",
       "      <td>0.891777</td>\n",
       "    </tr>\n",
       "    <tr>\n",
       "      <th>3</th>\n",
       "      <td>-0.871228</td>\n",
       "      <td>NaN</td>\n",
       "      <td>0.144198</td>\n",
       "      <td>-0.826925</td>\n",
       "      <td>-0.515364</td>\n",
       "      <td>-0.363097</td>\n",
       "      <td>-0.330782</td>\n",
       "      <td>-0.602500</td>\n",
       "      <td>-0.979219</td>\n",
       "      <td>-0.284678</td>\n",
       "      <td>...</td>\n",
       "      <td>-0.910068</td>\n",
       "      <td>-0.738046</td>\n",
       "      <td>-0.718262</td>\n",
       "      <td>0.242811</td>\n",
       "      <td>-0.121808</td>\n",
       "      <td>-0.280154</td>\n",
       "      <td>-0.073333</td>\n",
       "      <td>1.704639</td>\n",
       "      <td>0.611402</td>\n",
       "      <td>-0.617490</td>\n",
       "    </tr>\n",
       "    <tr>\n",
       "      <th>4</th>\n",
       "      <td>-0.871228</td>\n",
       "      <td>0.182724</td>\n",
       "      <td>-0.090142</td>\n",
       "      <td>-0.094926</td>\n",
       "      <td>0.390453</td>\n",
       "      <td>-0.428474</td>\n",
       "      <td>-1.295893</td>\n",
       "      <td>0.813865</td>\n",
       "      <td>0.349193</td>\n",
       "      <td>-0.284678</td>\n",
       "      <td>...</td>\n",
       "      <td>-0.838798</td>\n",
       "      <td>-0.738046</td>\n",
       "      <td>-0.718262</td>\n",
       "      <td>4.142457</td>\n",
       "      <td>-0.121808</td>\n",
       "      <td>-0.280154</td>\n",
       "      <td>-0.073333</td>\n",
       "      <td>1.399951</td>\n",
       "      <td>-0.881319</td>\n",
       "      <td>-0.617490</td>\n",
       "    </tr>\n",
       "    <tr>\n",
       "      <th>...</th>\n",
       "      <td>...</td>\n",
       "      <td>...</td>\n",
       "      <td>...</td>\n",
       "      <td>...</td>\n",
       "      <td>...</td>\n",
       "      <td>...</td>\n",
       "      <td>...</td>\n",
       "      <td>...</td>\n",
       "      <td>...</td>\n",
       "      <td>...</td>\n",
       "      <td>...</td>\n",
       "      <td>...</td>\n",
       "      <td>...</td>\n",
       "      <td>...</td>\n",
       "      <td>...</td>\n",
       "      <td>...</td>\n",
       "      <td>...</td>\n",
       "      <td>...</td>\n",
       "      <td>...</td>\n",
       "      <td>...</td>\n",
       "      <td>...</td>\n",
       "    </tr>\n",
       "    <tr>\n",
       "      <th>1090</th>\n",
       "      <td>-0.871228</td>\n",
       "      <td>0.301747</td>\n",
       "      <td>-0.129289</td>\n",
       "      <td>-0.094926</td>\n",
       "      <td>-0.515364</td>\n",
       "      <td>1.140578</td>\n",
       "      <td>1.020374</td>\n",
       "      <td>-0.602500</td>\n",
       "      <td>-0.926782</td>\n",
       "      <td>-0.284678</td>\n",
       "      <td>...</td>\n",
       "      <td>-0.178363</td>\n",
       "      <td>-0.738046</td>\n",
       "      <td>-0.399895</td>\n",
       "      <td>-0.344584</td>\n",
       "      <td>-0.121808</td>\n",
       "      <td>-0.280154</td>\n",
       "      <td>-0.073333</td>\n",
       "      <td>-0.123489</td>\n",
       "      <td>-1.254499</td>\n",
       "      <td>-0.617490</td>\n",
       "    </tr>\n",
       "    <tr>\n",
       "      <th>1091</th>\n",
       "      <td>-0.167086</td>\n",
       "      <td>-0.214020</td>\n",
       "      <td>-0.266078</td>\n",
       "      <td>-1.558925</td>\n",
       "      <td>-2.326999</td>\n",
       "      <td>-1.409132</td>\n",
       "      <td>-1.681937</td>\n",
       "      <td>-0.602500</td>\n",
       "      <td>0.379781</td>\n",
       "      <td>-0.284678</td>\n",
       "      <td>...</td>\n",
       "      <td>0.467817</td>\n",
       "      <td>2.568772</td>\n",
       "      <td>-0.081528</td>\n",
       "      <td>-0.344584</td>\n",
       "      <td>-0.121808</td>\n",
       "      <td>-0.280154</td>\n",
       "      <td>-0.073333</td>\n",
       "      <td>-0.123489</td>\n",
       "      <td>2.104124</td>\n",
       "      <td>0.891777</td>\n",
       "    </tr>\n",
       "    <tr>\n",
       "      <th>1092</th>\n",
       "      <td>-0.871228</td>\n",
       "      <td>-0.412391</td>\n",
       "      <td>-0.232808</td>\n",
       "      <td>-0.826925</td>\n",
       "      <td>1.296270</td>\n",
       "      <td>-0.526540</td>\n",
       "      <td>0.248285</td>\n",
       "      <td>-0.602500</td>\n",
       "      <td>-0.614343</td>\n",
       "      <td>-0.284678</td>\n",
       "      <td>...</td>\n",
       "      <td>0.448812</td>\n",
       "      <td>-0.738046</td>\n",
       "      <td>-0.718262</td>\n",
       "      <td>-0.344584</td>\n",
       "      <td>-0.121808</td>\n",
       "      <td>-0.280154</td>\n",
       "      <td>-0.073333</td>\n",
       "      <td>-0.123489</td>\n",
       "      <td>-0.881319</td>\n",
       "      <td>-1.372124</td>\n",
       "    </tr>\n",
       "    <tr>\n",
       "      <th>1093</th>\n",
       "      <td>-0.167086</td>\n",
       "      <td>-0.610763</td>\n",
       "      <td>-0.280725</td>\n",
       "      <td>0.637073</td>\n",
       "      <td>2.202087</td>\n",
       "      <td>-1.736018</td>\n",
       "      <td>0.634329</td>\n",
       "      <td>-0.602500</td>\n",
       "      <td>-0.979219</td>\n",
       "      <td>-0.284678</td>\n",
       "      <td>...</td>\n",
       "      <td>-1.242660</td>\n",
       "      <td>-0.738046</td>\n",
       "      <td>2.754834</td>\n",
       "      <td>-0.344584</td>\n",
       "      <td>-0.121808</td>\n",
       "      <td>-0.280154</td>\n",
       "      <td>-0.073333</td>\n",
       "      <td>-0.123489</td>\n",
       "      <td>-0.134958</td>\n",
       "      <td>-0.617490</td>\n",
       "    </tr>\n",
       "    <tr>\n",
       "      <th>1094</th>\n",
       "      <td>1.475911</td>\n",
       "      <td>-0.690112</td>\n",
       "      <td>-0.638564</td>\n",
       "      <td>0.637073</td>\n",
       "      <td>-0.515364</td>\n",
       "      <td>1.173266</td>\n",
       "      <td>1.068629</td>\n",
       "      <td>0.155226</td>\n",
       "      <td>-0.979219</td>\n",
       "      <td>-0.284678</td>\n",
       "      <td>...</td>\n",
       "      <td>0.866928</td>\n",
       "      <td>0.359112</td>\n",
       "      <td>-0.428838</td>\n",
       "      <td>-0.344584</td>\n",
       "      <td>-0.121808</td>\n",
       "      <td>-0.280154</td>\n",
       "      <td>-0.073333</td>\n",
       "      <td>-0.123489</td>\n",
       "      <td>-0.134958</td>\n",
       "      <td>0.891777</td>\n",
       "    </tr>\n",
       "  </tbody>\n",
       "</table>\n",
       "<p>1095 rows × 36 columns</p>\n",
       "</div>"
      ],
      "text/plain": [
       "      MSSubClass  LotFrontage   LotArea  OverallQual  OverallCond  YearBuilt  \\\n",
       "0       1.475911    -1.086855 -0.683950     0.637073    -0.515364   1.107889   \n",
       "1      -0.871228     0.301747 -0.054883    -0.094926     0.390453   0.094543   \n",
       "2      -0.167086    -0.412391 -0.152524    -0.094926    -0.515364  -1.049557   \n",
       "3      -0.871228          NaN  0.144198    -0.826925    -0.515364  -0.363097   \n",
       "4      -0.871228     0.182724 -0.090142    -0.094926     0.390453  -0.428474   \n",
       "...          ...          ...       ...          ...          ...        ...   \n",
       "1090   -0.871228     0.301747 -0.129289    -0.094926    -0.515364   1.140578   \n",
       "1091   -0.167086    -0.214020 -0.266078    -1.558925    -2.326999  -1.409132   \n",
       "1092   -0.871228    -0.412391 -0.232808    -0.826925     1.296270  -0.526540   \n",
       "1093   -0.167086    -0.610763 -0.280725     0.637073     2.202087  -1.736018   \n",
       "1094    1.475911    -0.690112 -0.638564     0.637073    -0.515364   1.173266   \n",
       "\n",
       "      YearRemodAdd  MasVnrArea  BsmtFinSF1  BsmtFinSF2  ...  GarageArea  \\\n",
       "0         1.020374   -0.520898   -0.944261   -0.284678  ...   -0.192617   \n",
       "1         0.682585   -0.025462    0.469362    2.166141  ...    0.030695   \n",
       "2        -1.681937   -0.602500   -0.533502   -0.284678  ...   -0.938576   \n",
       "3        -0.330782   -0.602500   -0.979219   -0.284678  ...   -0.910068   \n",
       "4        -1.295893    0.813865    0.349193   -0.284678  ...   -0.838798   \n",
       "...            ...         ...         ...         ...  ...         ...   \n",
       "1090      1.020374   -0.602500   -0.926782   -0.284678  ...   -0.178363   \n",
       "1091     -1.681937   -0.602500    0.379781   -0.284678  ...    0.467817   \n",
       "1092      0.248285   -0.602500   -0.614343   -0.284678  ...    0.448812   \n",
       "1093      0.634329   -0.602500   -0.979219   -0.284678  ...   -1.242660   \n",
       "1094      1.068629    0.155226   -0.979219   -0.284678  ...    0.866928   \n",
       "\n",
       "      WoodDeckSF  OpenPorchSF  EnclosedPorch  3SsnPorch  ScreenPorch  \\\n",
       "0       0.458853    -0.428838      -0.344584  -0.121808    -0.280154   \n",
       "1       1.295148    -0.718262      -0.344584  -0.121808    -0.280154   \n",
       "2      -0.738046    -0.718262      -0.344584  -0.121808    -0.280154   \n",
       "3      -0.738046    -0.718262       0.242811  -0.121808    -0.280154   \n",
       "4      -0.738046    -0.718262       4.142457  -0.121808    -0.280154   \n",
       "...          ...          ...            ...        ...          ...   \n",
       "1090   -0.738046    -0.399895      -0.344584  -0.121808    -0.280154   \n",
       "1091    2.568772    -0.081528      -0.344584  -0.121808    -0.280154   \n",
       "1092   -0.738046    -0.718262      -0.344584  -0.121808    -0.280154   \n",
       "1093   -0.738046     2.754834      -0.344584  -0.121808    -0.280154   \n",
       "1094    0.359112    -0.428838      -0.344584  -0.121808    -0.280154   \n",
       "\n",
       "       PoolArea   MiscVal    MoSold    YrSold  \n",
       "0     -0.073333 -0.123489 -0.508139  0.137143  \n",
       "1     15.000378 -0.123489 -2.000860 -1.372124  \n",
       "2     -0.073333 -0.123489  1.357763  0.891777  \n",
       "3     -0.073333  1.704639  0.611402 -0.617490  \n",
       "4     -0.073333  1.399951 -0.881319 -0.617490  \n",
       "...         ...       ...       ...       ...  \n",
       "1090  -0.073333 -0.123489 -1.254499 -0.617490  \n",
       "1091  -0.073333 -0.123489  2.104124  0.891777  \n",
       "1092  -0.073333 -0.123489 -0.881319 -1.372124  \n",
       "1093  -0.073333 -0.123489 -0.134958 -0.617490  \n",
       "1094  -0.073333 -0.123489 -0.134958  0.891777  \n",
       "\n",
       "[1095 rows x 36 columns]"
      ]
     },
     "execution_count": 13,
     "metadata": {},
     "output_type": "execute_result"
    }
   ],
   "source": [
    "from sklearn.preprocessing import StandardScaler\n",
    "\n",
    "scaler = StandardScaler()\n",
    "\n",
    "scaler.fit(train_df_num)\n",
    "train_df_num_scaled = pd.DataFrame(scaler.transform(train_df_num)\n",
    "                                   ,columns=train_df_num.columns)\n",
    "test_df_num_scaled = pd.DataFrame(scaler.transform(test_df_num)\n",
    "                                   ,columns=test_df_num.columns)\n",
    "\n",
    "train_df_num_scaled"
   ]
  },
  {
   "cell_type": "markdown",
   "id": "53899d96",
   "metadata": {},
   "source": [
    "### Filling Na (Numeric)"
   ]
  },
  {
   "cell_type": "code",
   "execution_count": 14,
   "id": "da36d0c4",
   "metadata": {
    "ExecuteTime": {
     "end_time": "2024-09-05T12:09:37.505137Z",
     "start_time": "2024-09-05T12:09:37.417852Z"
    }
   },
   "outputs": [],
   "source": [
    "from sklearn.impute import SimpleImputer\n",
    "\n",
    "impute = SimpleImputer(strategy='mean')\n",
    "impute.fit(train_df_num_scaled)\n",
    "train_df_num_scaled = pd.DataFrame(impute.transform(train_df_num_scaled)\n",
    "                                   ,columns=train_df_num_scaled.columns)\n",
    "test_df_num_scaled = pd.DataFrame(impute.transform(test_df_num_scaled)\n",
    "                                                   ,columns=test_df_num_scaled.columns)\n"
   ]
  },
  {
   "cell_type": "markdown",
   "id": "a960b005",
   "metadata": {},
   "source": [
    "## Categorical columns"
   ]
  },
  {
   "cell_type": "code",
   "execution_count": null,
   "id": "760de708",
   "metadata": {},
   "outputs": [],
   "source": []
  },
  {
   "cell_type": "code",
   "execution_count": 15,
   "id": "383b2c38",
   "metadata": {
    "ExecuteTime": {
     "end_time": "2024-09-05T12:09:37.509069Z",
     "start_time": "2024-09-05T12:09:37.505953Z"
    }
   },
   "outputs": [],
   "source": [
    "na_col = train_df_cat.isna().sum()/len(train_df_cat)\n",
    "na_col = list(na_col[na_col>0].index)"
   ]
  },
  {
   "cell_type": "code",
   "execution_count": 16,
   "id": "3d0cc484",
   "metadata": {
    "ExecuteTime": {
     "end_time": "2024-09-05T12:09:37.515040Z",
     "start_time": "2024-09-05T12:09:37.511552Z"
    }
   },
   "outputs": [],
   "source": [
    "train_df_cat.drop(columns=na_col,inplace=True)\n",
    "test_df_cat.drop(columns=na_col,inplace=True)"
   ]
  },
  {
   "cell_type": "code",
   "execution_count": 17,
   "id": "c587a7bb",
   "metadata": {
    "ExecuteTime": {
     "end_time": "2024-09-05T12:09:37.522485Z",
     "start_time": "2024-09-05T12:09:37.516271Z"
    }
   },
   "outputs": [],
   "source": [
    "more_than_seven_cat_col = list(train_df_cat.nunique()[train_df_cat.nunique() > 7].index)\n",
    "train_df_cat.drop(columns=more_than_seven_cat_col,inplace=True)\n",
    "test_df_cat.drop(columns=more_than_seven_cat_col,inplace=True)"
   ]
  },
  {
   "cell_type": "code",
   "execution_count": 18,
   "id": "0ee52f4c",
   "metadata": {
    "ExecuteTime": {
     "end_time": "2024-09-05T12:09:37.539574Z",
     "start_time": "2024-09-05T12:09:37.523483Z"
    },
    "scrolled": true
   },
   "outputs": [
    {
     "name": "stderr",
     "output_type": "stream",
     "text": [
      "/Users/aloys.bernard/.pyenv/versions/3.10.12/envs/elephant-app/lib/python3.10/site-packages/sklearn/preprocessing/_encoders.py:242: UserWarning: Found unknown categories in columns [7, 10] during transform. These unknown categories will be encoded as all zeros\n",
      "  warnings.warn(\n"
     ]
    }
   ],
   "source": [
    "from sklearn.preprocessing import OneHotEncoder\n",
    "\n",
    "ohe = OneHotEncoder(sparse_output=False,\n",
    "                   drop=\"first\",\n",
    "                   handle_unknown=\"ignore\"\n",
    "                   )\n",
    "\n",
    "ohe.fit(train_df_cat)\n",
    "\n",
    "train_df_cat = pd.DataFrame(ohe.transform(train_df_cat),columns=ohe.get_feature_names_out())\n",
    "test_df_cat = pd.DataFrame(ohe.transform(test_df_cat),columns=ohe.get_feature_names_out())"
   ]
  },
  {
   "cell_type": "code",
   "execution_count": 19,
   "id": "dfb22f64",
   "metadata": {
    "ExecuteTime": {
     "end_time": "2024-09-05T12:09:37.542896Z",
     "start_time": "2024-09-05T12:09:37.540435Z"
    }
   },
   "outputs": [
    {
     "data": {
      "text/plain": [
       "((1095, 76), (1095, 36))"
      ]
     },
     "execution_count": 19,
     "metadata": {},
     "output_type": "execute_result"
    }
   ],
   "source": [
    "train_df_cat.shape, train_df_num_scaled.shape"
   ]
  },
  {
   "cell_type": "markdown",
   "id": "383c70f7",
   "metadata": {},
   "source": [
    "## Concatenate to create our train"
   ]
  },
  {
   "cell_type": "code",
   "execution_count": 20,
   "id": "ec6921f9",
   "metadata": {
    "ExecuteTime": {
     "end_time": "2024-09-05T12:09:37.546993Z",
     "start_time": "2024-09-05T12:09:37.543754Z"
    },
    "scrolled": true
   },
   "outputs": [],
   "source": [
    "X_train = train_df_num_scaled.join(train_df_cat)\n",
    "X_test = test_df_num_scaled.join(test_df_cat)"
   ]
  },
  {
   "cell_type": "code",
   "execution_count": 21,
   "id": "443b22b5",
   "metadata": {
    "ExecuteTime": {
     "end_time": "2024-09-05T12:09:37.550816Z",
     "start_time": "2024-09-05T12:09:37.547928Z"
    }
   },
   "outputs": [
    {
     "data": {
      "text/plain": [
       "((1095, 112), (365, 112))"
      ]
     },
     "execution_count": 21,
     "metadata": {},
     "output_type": "execute_result"
    }
   ],
   "source": [
    "X_train.shape , X_test.shape"
   ]
  },
  {
   "cell_type": "code",
   "execution_count": 22,
   "id": "6bd80da3",
   "metadata": {
    "ExecuteTime": {
     "end_time": "2024-09-05T12:09:37.556481Z",
     "start_time": "2024-09-05T12:09:37.553142Z"
    }
   },
   "outputs": [
    {
     "data": {
      "text/plain": [
       "(1095, 112)"
      ]
     },
     "execution_count": 22,
     "metadata": {},
     "output_type": "execute_result"
    }
   ],
   "source": [
    "X_train.shape"
   ]
  },
  {
   "cell_type": "markdown",
   "id": "329abc82",
   "metadata": {},
   "source": [
    "# Models \n",
    "## Baseline"
   ]
  },
  {
   "cell_type": "code",
   "execution_count": 23,
   "id": "5ed8358e",
   "metadata": {
    "ExecuteTime": {
     "end_time": "2024-09-05T12:09:37.561448Z",
     "start_time": "2024-09-05T12:09:37.557323Z"
    }
   },
   "outputs": [
    {
     "name": "stdout",
     "output_type": "stream",
     "text": [
      "59303.87802589604\n"
     ]
    },
    {
     "data": {
      "text/plain": [
       "np.float64(59303.87802589604)"
      ]
     },
     "execution_count": 23,
     "metadata": {},
     "output_type": "execute_result"
    }
   ],
   "source": [
    "# A la mano\n",
    "print((y_test - y_test.mean()).abs().mean())\n",
    "# sklearn\n",
    "from sklearn.metrics import mean_absolute_error\n",
    "mean_absolute_error(y_test\n",
    "                    ,np.ones_like(y_test)*y_test.mean()\n",
    "                   )"
   ]
  },
  {
   "cell_type": "markdown",
   "id": "2cb4cc59",
   "metadata": {},
   "source": [
    "## Linear Regression"
   ]
  },
  {
   "cell_type": "code",
   "execution_count": 24,
   "id": "15dc2d30",
   "metadata": {
    "ExecuteTime": {
     "end_time": "2024-09-05T12:09:37.658781Z",
     "start_time": "2024-09-05T12:09:37.565353Z"
    }
   },
   "outputs": [
    {
     "data": {
      "text/plain": [
       "array([-3.35823253e+03,  2.55059922e+03,  6.17316613e+03,  1.27943593e+04,\n",
       "        6.43569681e+03,  7.54264346e+03,  1.96911913e+01,  3.38477448e+03,\n",
       "       -5.85219691e+17, -1.96688219e+17, -5.68562801e+17,  5.67302599e+17,\n",
       "        3.27899254e+17,  3.73510378e+17,  4.14917059e+16, -4.46767272e+17,\n",
       "        9.56742956e+02, -1.20691672e+03,  1.80284650e+03,  7.82865802e+02,\n",
       "       -6.38716526e+03, -6.00393669e+03,  5.83284093e+03,  2.42842183e+03,\n",
       "        1.47419272e+03,  6.38278252e+02,  4.26080350e+03,  2.43373380e+03,\n",
       "       -1.11834096e+03, -2.61382572e+02,  6.56201562e+02,  2.82069980e+03,\n",
       "        2.84437505e+03, -1.56800000e+03, -1.08800000e+03,  3.20000000e+02,\n",
       "        3.34640000e+04,  1.29720000e+04,  1.78560000e+04,  2.13120000e+04,\n",
       "        2.52960000e+04,  2.40000000e+03, -1.56400000e+03, -9.60000000e+02,\n",
       "        2.57280000e+04,  7.44000000e+03,  7.40000000e+03, -3.72720000e+04,\n",
       "        1.15360000e+04, -2.36000000e+03, -1.08600000e+03, -1.41000000e+03,\n",
       "        1.05840000e+04, -2.47840000e+04, -1.71080000e+04, -1.31680000e+04,\n",
       "       -2.58140000e+05, -6.30000000e+04, -1.49260000e+04,  5.47200000e+03,\n",
       "        2.68800000e+03, -3.84000000e+03, -4.04800000e+03, -2.80480000e+04,\n",
       "       -3.09200000e+04, -2.66880000e+04, -2.58780000e+04,  2.26800000e+04,\n",
       "        7.32654000e+05,  7.49736000e+05,  7.10952000e+05,  6.91264000e+05,\n",
       "        7.22656000e+05,  7.76932000e+05, -1.36480000e+04, -3.23840000e+04,\n",
       "       -3.24320000e+04, -2.27200000e+03, -4.03200000e+03,  2.71530000e+04,\n",
       "       -1.36000000e+03, -4.67200000e+03, -1.28000000e+02,  1.48800000e+04,\n",
       "        4.45600000e+03, -4.08090000e+04, -2.36040000e+04, -1.45760000e+04,\n",
       "       -2.27840000e+04, -5.77870000e+04,  5.28300000e+03, -2.09600000e+03,\n",
       "       -1.14560000e+04,  8.43600000e+03, -8.83200000e+03, -5.54400000e+03,\n",
       "       -2.33280000e+04, -2.84640000e+04, -3.17760000e+04, -2.94000000e+03,\n",
       "        5.36000000e+02,  2.52400000e+03, -1.44820000e+04, -7.42050000e+04,\n",
       "        1.56640000e+04, -5.68000000e+03,  1.54600000e+03,  2.91520000e+04,\n",
       "        3.49260000e+04, -8.83200000e+03,  1.68000000e+02,  2.65120000e+04])"
      ]
     },
     "execution_count": 24,
     "metadata": {},
     "output_type": "execute_result"
    }
   ],
   "source": [
    "from sklearn.linear_model import LinearRegression\n",
    "\n",
    "# Instantiate the model\n",
    "lin = LinearRegression()\n",
    "# Fit the model on train\n",
    "lin.fit(X_train,y_train)\n",
    "# Make a prediction on test\n",
    "y_pred = lin.predict(X_test)\n",
    "\n",
    "lin.coef_"
   ]
  },
  {
   "cell_type": "code",
   "execution_count": 25,
   "id": "f5499442",
   "metadata": {
    "ExecuteTime": {
     "end_time": "2024-09-05T12:09:37.672255Z",
     "start_time": "2024-09-05T12:09:37.660330Z"
    }
   },
   "outputs": [
    {
     "name": "stdout",
     "output_type": "stream",
     "text": [
      " The MAE on Train is 17059.82\n",
      " The MAE on Test is 21009.04\n"
     ]
    }
   ],
   "source": [
    "# MAE on the Train\n",
    "print(f\" The MAE on Train is {mean_absolute_error(y_train,lin.predict(X_train)):.2f}\")\n",
    "print(f\" The MAE on Test is {mean_absolute_error(y_test,y_pred):.2f}\")\n"
   ]
  },
  {
   "cell_type": "markdown",
   "id": "9aa95503",
   "metadata": {},
   "source": [
    "### Decision Tree"
   ]
  },
  {
   "cell_type": "code",
   "execution_count": 26,
   "id": "4a5c4ec0",
   "metadata": {
    "ExecuteTime": {
     "end_time": "2024-09-05T12:09:37.725827Z",
     "start_time": "2024-09-05T12:09:37.673313Z"
    }
   },
   "outputs": [
    {
     "name": "stdout",
     "output_type": "stream",
     "text": [
      " The MAE on Train is 17059.82\n",
      " The MAE on Test is 23020.19\n"
     ]
    }
   ],
   "source": [
    "from sklearn.tree import DecisionTreeRegressor \n",
    "\n",
    "tree = DecisionTreeRegressor(max_depth=10)\n",
    "\n",
    "tree.fit(X_train,y_train)\n",
    "y_pred = tree.predict(X_test)\n",
    "\n",
    "# MAE on the Train\n",
    "print(f\" The MAE on Train is {mean_absolute_error(y_train,lin.predict(X_train)):.2f}\")\n",
    "print(f\" The MAE on Test is {mean_absolute_error(y_test,y_pred):.2f}\")\n"
   ]
  },
  {
   "cell_type": "markdown",
   "id": "c58886ee",
   "metadata": {},
   "source": [
    "### Random Forest"
   ]
  },
  {
   "cell_type": "code",
   "execution_count": 27,
   "id": "3372baff",
   "metadata": {
    "ExecuteTime": {
     "end_time": "2024-09-05T12:09:38.891521Z",
     "start_time": "2024-09-05T12:09:37.728393Z"
    }
   },
   "outputs": [
    {
     "name": "stdout",
     "output_type": "stream",
     "text": [
      " The MAE on Train is 17059.82\n",
      " The MAE on Test is 17079.26\n"
     ]
    }
   ],
   "source": [
    "from sklearn.ensemble import RandomForestRegressor\n",
    "\n",
    "forest = RandomForestRegressor()\n",
    "\n",
    "\n",
    "forest.fit(X_train,y_train)\n",
    "\n",
    "\n",
    "# MAE on the Train\n",
    "y_pred = forest.predict(X_test)\n",
    "print(f\" The MAE on Train is {mean_absolute_error(y_train,lin.predict(X_train)):.2f}\")\n",
    "print(f\" The MAE on Test is {mean_absolute_error(y_test,y_pred):.2f}\")\n"
   ]
  },
  {
   "cell_type": "markdown",
   "id": "5bd16af1",
   "metadata": {},
   "source": [
    "### KNN Regressor\n"
   ]
  },
  {
   "cell_type": "code",
   "execution_count": 28,
   "id": "dfeecefd",
   "metadata": {
    "ExecuteTime": {
     "end_time": "2024-09-05T12:09:39.168243Z",
     "start_time": "2024-09-05T12:09:38.916463Z"
    }
   },
   "outputs": [
    {
     "name": "stdout",
     "output_type": "stream",
     "text": [
      "0.8149183687161994\n",
      " The MSE on Train is 18622.51\n",
      " The MSE on Test is 21313.85\n"
     ]
    }
   ],
   "source": [
    "from sklearn.neighbors import KNeighborsRegressor\n",
    "\n",
    "# Instantie\n",
    "knn = KNeighborsRegressor()\n",
    "# Fit on the Train \n",
    "knn.fit(X_train,y_train) \n",
    "# Score  (R2 par defautl pour une regression)\n",
    "print(knn.score(X_test,y_test))\n",
    "from sklearn.metrics import mean_squared_error\n",
    "# MAE on the Train\n",
    "y_pred = knn.predict(X_test)\n",
    "print(f\" The MSE on Train is {mean_absolute_error(y_train,knn.predict(X_train)):.2f}\")\n",
    "print(f\" The MSE on Test is {mean_absolute_error(y_test,y_pred):.2f}\")\n"
   ]
  },
  {
   "cell_type": "markdown",
   "id": "294c62de",
   "metadata": {},
   "source": [
    "## GridSearch "
   ]
  },
  {
   "cell_type": "code",
   "execution_count": 29,
   "id": "93ffe0a1",
   "metadata": {
    "ExecuteTime": {
     "end_time": "2024-09-05T12:09:39.178619Z",
     "start_time": "2024-09-05T12:09:39.169575Z"
    }
   },
   "outputs": [
    {
     "data": {
      "text/html": [
       "<style>#sk-container-id-1 {\n",
       "  /* Definition of color scheme common for light and dark mode */\n",
       "  --sklearn-color-text: black;\n",
       "  --sklearn-color-line: gray;\n",
       "  /* Definition of color scheme for unfitted estimators */\n",
       "  --sklearn-color-unfitted-level-0: #fff5e6;\n",
       "  --sklearn-color-unfitted-level-1: #f6e4d2;\n",
       "  --sklearn-color-unfitted-level-2: #ffe0b3;\n",
       "  --sklearn-color-unfitted-level-3: chocolate;\n",
       "  /* Definition of color scheme for fitted estimators */\n",
       "  --sklearn-color-fitted-level-0: #f0f8ff;\n",
       "  --sklearn-color-fitted-level-1: #d4ebff;\n",
       "  --sklearn-color-fitted-level-2: #b3dbfd;\n",
       "  --sklearn-color-fitted-level-3: cornflowerblue;\n",
       "\n",
       "  /* Specific color for light theme */\n",
       "  --sklearn-color-text-on-default-background: var(--sg-text-color, var(--theme-code-foreground, var(--jp-content-font-color1, black)));\n",
       "  --sklearn-color-background: var(--sg-background-color, var(--theme-background, var(--jp-layout-color0, white)));\n",
       "  --sklearn-color-border-box: var(--sg-text-color, var(--theme-code-foreground, var(--jp-content-font-color1, black)));\n",
       "  --sklearn-color-icon: #696969;\n",
       "\n",
       "  @media (prefers-color-scheme: dark) {\n",
       "    /* Redefinition of color scheme for dark theme */\n",
       "    --sklearn-color-text-on-default-background: var(--sg-text-color, var(--theme-code-foreground, var(--jp-content-font-color1, white)));\n",
       "    --sklearn-color-background: var(--sg-background-color, var(--theme-background, var(--jp-layout-color0, #111)));\n",
       "    --sklearn-color-border-box: var(--sg-text-color, var(--theme-code-foreground, var(--jp-content-font-color1, white)));\n",
       "    --sklearn-color-icon: #878787;\n",
       "  }\n",
       "}\n",
       "\n",
       "#sk-container-id-1 {\n",
       "  color: var(--sklearn-color-text);\n",
       "}\n",
       "\n",
       "#sk-container-id-1 pre {\n",
       "  padding: 0;\n",
       "}\n",
       "\n",
       "#sk-container-id-1 input.sk-hidden--visually {\n",
       "  border: 0;\n",
       "  clip: rect(1px 1px 1px 1px);\n",
       "  clip: rect(1px, 1px, 1px, 1px);\n",
       "  height: 1px;\n",
       "  margin: -1px;\n",
       "  overflow: hidden;\n",
       "  padding: 0;\n",
       "  position: absolute;\n",
       "  width: 1px;\n",
       "}\n",
       "\n",
       "#sk-container-id-1 div.sk-dashed-wrapped {\n",
       "  border: 1px dashed var(--sklearn-color-line);\n",
       "  margin: 0 0.4em 0.5em 0.4em;\n",
       "  box-sizing: border-box;\n",
       "  padding-bottom: 0.4em;\n",
       "  background-color: var(--sklearn-color-background);\n",
       "}\n",
       "\n",
       "#sk-container-id-1 div.sk-container {\n",
       "  /* jupyter's `normalize.less` sets `[hidden] { display: none; }`\n",
       "     but bootstrap.min.css set `[hidden] { display: none !important; }`\n",
       "     so we also need the `!important` here to be able to override the\n",
       "     default hidden behavior on the sphinx rendered scikit-learn.org.\n",
       "     See: https://github.com/scikit-learn/scikit-learn/issues/21755 */\n",
       "  display: inline-block !important;\n",
       "  position: relative;\n",
       "}\n",
       "\n",
       "#sk-container-id-1 div.sk-text-repr-fallback {\n",
       "  display: none;\n",
       "}\n",
       "\n",
       "div.sk-parallel-item,\n",
       "div.sk-serial,\n",
       "div.sk-item {\n",
       "  /* draw centered vertical line to link estimators */\n",
       "  background-image: linear-gradient(var(--sklearn-color-text-on-default-background), var(--sklearn-color-text-on-default-background));\n",
       "  background-size: 2px 100%;\n",
       "  background-repeat: no-repeat;\n",
       "  background-position: center center;\n",
       "}\n",
       "\n",
       "/* Parallel-specific style estimator block */\n",
       "\n",
       "#sk-container-id-1 div.sk-parallel-item::after {\n",
       "  content: \"\";\n",
       "  width: 100%;\n",
       "  border-bottom: 2px solid var(--sklearn-color-text-on-default-background);\n",
       "  flex-grow: 1;\n",
       "}\n",
       "\n",
       "#sk-container-id-1 div.sk-parallel {\n",
       "  display: flex;\n",
       "  align-items: stretch;\n",
       "  justify-content: center;\n",
       "  background-color: var(--sklearn-color-background);\n",
       "  position: relative;\n",
       "}\n",
       "\n",
       "#sk-container-id-1 div.sk-parallel-item {\n",
       "  display: flex;\n",
       "  flex-direction: column;\n",
       "}\n",
       "\n",
       "#sk-container-id-1 div.sk-parallel-item:first-child::after {\n",
       "  align-self: flex-end;\n",
       "  width: 50%;\n",
       "}\n",
       "\n",
       "#sk-container-id-1 div.sk-parallel-item:last-child::after {\n",
       "  align-self: flex-start;\n",
       "  width: 50%;\n",
       "}\n",
       "\n",
       "#sk-container-id-1 div.sk-parallel-item:only-child::after {\n",
       "  width: 0;\n",
       "}\n",
       "\n",
       "/* Serial-specific style estimator block */\n",
       "\n",
       "#sk-container-id-1 div.sk-serial {\n",
       "  display: flex;\n",
       "  flex-direction: column;\n",
       "  align-items: center;\n",
       "  background-color: var(--sklearn-color-background);\n",
       "  padding-right: 1em;\n",
       "  padding-left: 1em;\n",
       "}\n",
       "\n",
       "\n",
       "/* Toggleable style: style used for estimator/Pipeline/ColumnTransformer box that is\n",
       "clickable and can be expanded/collapsed.\n",
       "- Pipeline and ColumnTransformer use this feature and define the default style\n",
       "- Estimators will overwrite some part of the style using the `sk-estimator` class\n",
       "*/\n",
       "\n",
       "/* Pipeline and ColumnTransformer style (default) */\n",
       "\n",
       "#sk-container-id-1 div.sk-toggleable {\n",
       "  /* Default theme specific background. It is overwritten whether we have a\n",
       "  specific estimator or a Pipeline/ColumnTransformer */\n",
       "  background-color: var(--sklearn-color-background);\n",
       "}\n",
       "\n",
       "/* Toggleable label */\n",
       "#sk-container-id-1 label.sk-toggleable__label {\n",
       "  cursor: pointer;\n",
       "  display: block;\n",
       "  width: 100%;\n",
       "  margin-bottom: 0;\n",
       "  padding: 0.5em;\n",
       "  box-sizing: border-box;\n",
       "  text-align: center;\n",
       "}\n",
       "\n",
       "#sk-container-id-1 label.sk-toggleable__label-arrow:before {\n",
       "  /* Arrow on the left of the label */\n",
       "  content: \"▸\";\n",
       "  float: left;\n",
       "  margin-right: 0.25em;\n",
       "  color: var(--sklearn-color-icon);\n",
       "}\n",
       "\n",
       "#sk-container-id-1 label.sk-toggleable__label-arrow:hover:before {\n",
       "  color: var(--sklearn-color-text);\n",
       "}\n",
       "\n",
       "/* Toggleable content - dropdown */\n",
       "\n",
       "#sk-container-id-1 div.sk-toggleable__content {\n",
       "  max-height: 0;\n",
       "  max-width: 0;\n",
       "  overflow: hidden;\n",
       "  text-align: left;\n",
       "  /* unfitted */\n",
       "  background-color: var(--sklearn-color-unfitted-level-0);\n",
       "}\n",
       "\n",
       "#sk-container-id-1 div.sk-toggleable__content.fitted {\n",
       "  /* fitted */\n",
       "  background-color: var(--sklearn-color-fitted-level-0);\n",
       "}\n",
       "\n",
       "#sk-container-id-1 div.sk-toggleable__content pre {\n",
       "  margin: 0.2em;\n",
       "  border-radius: 0.25em;\n",
       "  color: var(--sklearn-color-text);\n",
       "  /* unfitted */\n",
       "  background-color: var(--sklearn-color-unfitted-level-0);\n",
       "}\n",
       "\n",
       "#sk-container-id-1 div.sk-toggleable__content.fitted pre {\n",
       "  /* unfitted */\n",
       "  background-color: var(--sklearn-color-fitted-level-0);\n",
       "}\n",
       "\n",
       "#sk-container-id-1 input.sk-toggleable__control:checked~div.sk-toggleable__content {\n",
       "  /* Expand drop-down */\n",
       "  max-height: 200px;\n",
       "  max-width: 100%;\n",
       "  overflow: auto;\n",
       "}\n",
       "\n",
       "#sk-container-id-1 input.sk-toggleable__control:checked~label.sk-toggleable__label-arrow:before {\n",
       "  content: \"▾\";\n",
       "}\n",
       "\n",
       "/* Pipeline/ColumnTransformer-specific style */\n",
       "\n",
       "#sk-container-id-1 div.sk-label input.sk-toggleable__control:checked~label.sk-toggleable__label {\n",
       "  color: var(--sklearn-color-text);\n",
       "  background-color: var(--sklearn-color-unfitted-level-2);\n",
       "}\n",
       "\n",
       "#sk-container-id-1 div.sk-label.fitted input.sk-toggleable__control:checked~label.sk-toggleable__label {\n",
       "  background-color: var(--sklearn-color-fitted-level-2);\n",
       "}\n",
       "\n",
       "/* Estimator-specific style */\n",
       "\n",
       "/* Colorize estimator box */\n",
       "#sk-container-id-1 div.sk-estimator input.sk-toggleable__control:checked~label.sk-toggleable__label {\n",
       "  /* unfitted */\n",
       "  background-color: var(--sklearn-color-unfitted-level-2);\n",
       "}\n",
       "\n",
       "#sk-container-id-1 div.sk-estimator.fitted input.sk-toggleable__control:checked~label.sk-toggleable__label {\n",
       "  /* fitted */\n",
       "  background-color: var(--sklearn-color-fitted-level-2);\n",
       "}\n",
       "\n",
       "#sk-container-id-1 div.sk-label label.sk-toggleable__label,\n",
       "#sk-container-id-1 div.sk-label label {\n",
       "  /* The background is the default theme color */\n",
       "  color: var(--sklearn-color-text-on-default-background);\n",
       "}\n",
       "\n",
       "/* On hover, darken the color of the background */\n",
       "#sk-container-id-1 div.sk-label:hover label.sk-toggleable__label {\n",
       "  color: var(--sklearn-color-text);\n",
       "  background-color: var(--sklearn-color-unfitted-level-2);\n",
       "}\n",
       "\n",
       "/* Label box, darken color on hover, fitted */\n",
       "#sk-container-id-1 div.sk-label.fitted:hover label.sk-toggleable__label.fitted {\n",
       "  color: var(--sklearn-color-text);\n",
       "  background-color: var(--sklearn-color-fitted-level-2);\n",
       "}\n",
       "\n",
       "/* Estimator label */\n",
       "\n",
       "#sk-container-id-1 div.sk-label label {\n",
       "  font-family: monospace;\n",
       "  font-weight: bold;\n",
       "  display: inline-block;\n",
       "  line-height: 1.2em;\n",
       "}\n",
       "\n",
       "#sk-container-id-1 div.sk-label-container {\n",
       "  text-align: center;\n",
       "}\n",
       "\n",
       "/* Estimator-specific */\n",
       "#sk-container-id-1 div.sk-estimator {\n",
       "  font-family: monospace;\n",
       "  border: 1px dotted var(--sklearn-color-border-box);\n",
       "  border-radius: 0.25em;\n",
       "  box-sizing: border-box;\n",
       "  margin-bottom: 0.5em;\n",
       "  /* unfitted */\n",
       "  background-color: var(--sklearn-color-unfitted-level-0);\n",
       "}\n",
       "\n",
       "#sk-container-id-1 div.sk-estimator.fitted {\n",
       "  /* fitted */\n",
       "  background-color: var(--sklearn-color-fitted-level-0);\n",
       "}\n",
       "\n",
       "/* on hover */\n",
       "#sk-container-id-1 div.sk-estimator:hover {\n",
       "  /* unfitted */\n",
       "  background-color: var(--sklearn-color-unfitted-level-2);\n",
       "}\n",
       "\n",
       "#sk-container-id-1 div.sk-estimator.fitted:hover {\n",
       "  /* fitted */\n",
       "  background-color: var(--sklearn-color-fitted-level-2);\n",
       "}\n",
       "\n",
       "/* Specification for estimator info (e.g. \"i\" and \"?\") */\n",
       "\n",
       "/* Common style for \"i\" and \"?\" */\n",
       "\n",
       ".sk-estimator-doc-link,\n",
       "a:link.sk-estimator-doc-link,\n",
       "a:visited.sk-estimator-doc-link {\n",
       "  float: right;\n",
       "  font-size: smaller;\n",
       "  line-height: 1em;\n",
       "  font-family: monospace;\n",
       "  background-color: var(--sklearn-color-background);\n",
       "  border-radius: 1em;\n",
       "  height: 1em;\n",
       "  width: 1em;\n",
       "  text-decoration: none !important;\n",
       "  margin-left: 1ex;\n",
       "  /* unfitted */\n",
       "  border: var(--sklearn-color-unfitted-level-1) 1pt solid;\n",
       "  color: var(--sklearn-color-unfitted-level-1);\n",
       "}\n",
       "\n",
       ".sk-estimator-doc-link.fitted,\n",
       "a:link.sk-estimator-doc-link.fitted,\n",
       "a:visited.sk-estimator-doc-link.fitted {\n",
       "  /* fitted */\n",
       "  border: var(--sklearn-color-fitted-level-1) 1pt solid;\n",
       "  color: var(--sklearn-color-fitted-level-1);\n",
       "}\n",
       "\n",
       "/* On hover */\n",
       "div.sk-estimator:hover .sk-estimator-doc-link:hover,\n",
       ".sk-estimator-doc-link:hover,\n",
       "div.sk-label-container:hover .sk-estimator-doc-link:hover,\n",
       ".sk-estimator-doc-link:hover {\n",
       "  /* unfitted */\n",
       "  background-color: var(--sklearn-color-unfitted-level-3);\n",
       "  color: var(--sklearn-color-background);\n",
       "  text-decoration: none;\n",
       "}\n",
       "\n",
       "div.sk-estimator.fitted:hover .sk-estimator-doc-link.fitted:hover,\n",
       ".sk-estimator-doc-link.fitted:hover,\n",
       "div.sk-label-container:hover .sk-estimator-doc-link.fitted:hover,\n",
       ".sk-estimator-doc-link.fitted:hover {\n",
       "  /* fitted */\n",
       "  background-color: var(--sklearn-color-fitted-level-3);\n",
       "  color: var(--sklearn-color-background);\n",
       "  text-decoration: none;\n",
       "}\n",
       "\n",
       "/* Span, style for the box shown on hovering the info icon */\n",
       ".sk-estimator-doc-link span {\n",
       "  display: none;\n",
       "  z-index: 9999;\n",
       "  position: relative;\n",
       "  font-weight: normal;\n",
       "  right: .2ex;\n",
       "  padding: .5ex;\n",
       "  margin: .5ex;\n",
       "  width: min-content;\n",
       "  min-width: 20ex;\n",
       "  max-width: 50ex;\n",
       "  color: var(--sklearn-color-text);\n",
       "  box-shadow: 2pt 2pt 4pt #999;\n",
       "  /* unfitted */\n",
       "  background: var(--sklearn-color-unfitted-level-0);\n",
       "  border: .5pt solid var(--sklearn-color-unfitted-level-3);\n",
       "}\n",
       "\n",
       ".sk-estimator-doc-link.fitted span {\n",
       "  /* fitted */\n",
       "  background: var(--sklearn-color-fitted-level-0);\n",
       "  border: var(--sklearn-color-fitted-level-3);\n",
       "}\n",
       "\n",
       ".sk-estimator-doc-link:hover span {\n",
       "  display: block;\n",
       "}\n",
       "\n",
       "/* \"?\"-specific style due to the `<a>` HTML tag */\n",
       "\n",
       "#sk-container-id-1 a.estimator_doc_link {\n",
       "  float: right;\n",
       "  font-size: 1rem;\n",
       "  line-height: 1em;\n",
       "  font-family: monospace;\n",
       "  background-color: var(--sklearn-color-background);\n",
       "  border-radius: 1rem;\n",
       "  height: 1rem;\n",
       "  width: 1rem;\n",
       "  text-decoration: none;\n",
       "  /* unfitted */\n",
       "  color: var(--sklearn-color-unfitted-level-1);\n",
       "  border: var(--sklearn-color-unfitted-level-1) 1pt solid;\n",
       "}\n",
       "\n",
       "#sk-container-id-1 a.estimator_doc_link.fitted {\n",
       "  /* fitted */\n",
       "  border: var(--sklearn-color-fitted-level-1) 1pt solid;\n",
       "  color: var(--sklearn-color-fitted-level-1);\n",
       "}\n",
       "\n",
       "/* On hover */\n",
       "#sk-container-id-1 a.estimator_doc_link:hover {\n",
       "  /* unfitted */\n",
       "  background-color: var(--sklearn-color-unfitted-level-3);\n",
       "  color: var(--sklearn-color-background);\n",
       "  text-decoration: none;\n",
       "}\n",
       "\n",
       "#sk-container-id-1 a.estimator_doc_link.fitted:hover {\n",
       "  /* fitted */\n",
       "  background-color: var(--sklearn-color-fitted-level-3);\n",
       "}\n",
       "</style><div id=\"sk-container-id-1\" class=\"sk-top-container\"><div class=\"sk-text-repr-fallback\"><pre>RandomForestRegressor()</pre><b>In a Jupyter environment, please rerun this cell to show the HTML representation or trust the notebook. <br />On GitHub, the HTML representation is unable to render, please try loading this page with nbviewer.org.</b></div><div class=\"sk-container\" hidden><div class=\"sk-item\"><div class=\"sk-estimator  sk-toggleable\"><input class=\"sk-toggleable__control sk-hidden--visually\" id=\"sk-estimator-id-1\" type=\"checkbox\" checked><label for=\"sk-estimator-id-1\" class=\"sk-toggleable__label  sk-toggleable__label-arrow \">&nbsp;&nbsp;RandomForestRegressor<a class=\"sk-estimator-doc-link \" rel=\"noreferrer\" target=\"_blank\" href=\"https://scikit-learn.org/1.5/modules/generated/sklearn.ensemble.RandomForestRegressor.html\">?<span>Documentation for RandomForestRegressor</span></a><span class=\"sk-estimator-doc-link \">i<span>Not fitted</span></span></label><div class=\"sk-toggleable__content \"><pre>RandomForestRegressor()</pre></div> </div></div></div></div>"
      ],
      "text/plain": [
       "RandomForestRegressor()"
      ]
     },
     "execution_count": 29,
     "metadata": {},
     "output_type": "execute_result"
    }
   ],
   "source": [
    "RandomForestRegressor()"
   ]
  },
  {
   "cell_type": "code",
   "execution_count": 30,
   "id": "482a6326",
   "metadata": {
    "ExecuteTime": {
     "end_time": "2024-09-05T12:09:45.071299Z",
     "start_time": "2024-09-05T12:09:39.181195Z"
    }
   },
   "outputs": [
    {
     "name": "stdout",
     "output_type": "stream",
     "text": [
      "Fitting 5 folds for each of 3 candidates, totalling 15 fits\n",
      "[CV 1/5; 1/3] START n_estimators=50.............................................\n",
      "[CV 1/5; 1/3] END ..............n_estimators=50;, score=0.857 total time=   0.4s\n",
      "[CV 2/5; 1/3] START n_estimators=50.............................................\n",
      "[CV 2/5; 1/3] END ..............n_estimators=50;, score=0.554 total time=   0.4s\n",
      "[CV 3/5; 1/3] START n_estimators=50.............................................\n",
      "[CV 3/5; 1/3] END ..............n_estimators=50;, score=0.853 total time=   0.4s\n",
      "[CV 4/5; 1/3] START n_estimators=50.............................................\n",
      "[CV 4/5; 1/3] END ..............n_estimators=50;, score=0.878 total time=   0.4s\n",
      "[CV 5/5; 1/3] START n_estimators=50.............................................\n",
      "[CV 5/5; 1/3] END ..............n_estimators=50;, score=0.881 total time=   0.4s\n",
      "[CV 1/5; 2/3] START n_estimators=100............................................\n",
      "[CV 1/5; 2/3] END .............n_estimators=100;, score=0.869 total time=   0.8s\n",
      "[CV 2/5; 2/3] START n_estimators=100............................................\n",
      "[CV 2/5; 2/3] END .............n_estimators=100;, score=0.535 total time=   0.8s\n",
      "[CV 3/5; 2/3] START n_estimators=100............................................\n",
      "[CV 3/5; 2/3] END .............n_estimators=100;, score=0.862 total time=   0.8s\n",
      "[CV 4/5; 2/3] START n_estimators=100............................................\n",
      "[CV 4/5; 2/3] END .............n_estimators=100;, score=0.871 total time=   0.8s\n",
      "[CV 5/5; 2/3] START n_estimators=100............................................\n",
      "[CV 5/5; 2/3] END .............n_estimators=100;, score=0.876 total time=   0.8s\n",
      "[CV 1/5; 3/3] START n_estimators=200............................................\n"
     ]
    },
    {
     "ename": "KeyboardInterrupt",
     "evalue": "",
     "output_type": "error",
     "traceback": [
      "\u001b[0;31m---------------------------------------------------------------------------\u001b[0m",
      "\u001b[0;31mKeyboardInterrupt\u001b[0m                         Traceback (most recent call last)",
      "Cell \u001b[0;32mIn[30], line 15\u001b[0m\n\u001b[1;32m      3\u001b[0m params \u001b[38;5;241m=\u001b[39m {\u001b[38;5;124m\"\u001b[39m\u001b[38;5;124mn_estimators\u001b[39m\u001b[38;5;124m\"\u001b[39m:[\u001b[38;5;241m50\u001b[39m,\u001b[38;5;241m100\u001b[39m,\u001b[38;5;241m200\u001b[39m],\n\u001b[1;32m      4\u001b[0m            \u001b[38;5;66;03m#\"max_depth\": [None,10,15,20],\u001b[39;00m\n\u001b[1;32m      5\u001b[0m            \u001b[38;5;66;03m#\"min_samples_leaf\":[1,2,5,10], \u001b[39;00m\n\u001b[1;32m      6\u001b[0m            \u001b[38;5;66;03m#\"bootstrap\": [True,False]\u001b[39;00m\n\u001b[1;32m      7\u001b[0m \n\u001b[1;32m      8\u001b[0m }\n\u001b[1;32m     11\u001b[0m search \u001b[38;5;241m=\u001b[39m GridSearchCV(RandomForestRegressor()\n\u001b[1;32m     12\u001b[0m                      ,params\n\u001b[1;32m     13\u001b[0m                      ,verbose \u001b[38;5;241m=\u001b[39m \u001b[38;5;241m10\u001b[39m)\n\u001b[0;32m---> 15\u001b[0m \u001b[43msearch\u001b[49m\u001b[38;5;241;43m.\u001b[39;49m\u001b[43mfit\u001b[49m\u001b[43m(\u001b[49m\u001b[43mX_train\u001b[49m\n\u001b[1;32m     16\u001b[0m \u001b[43m          \u001b[49m\u001b[43m,\u001b[49m\u001b[43my_train\u001b[49m\u001b[43m)\u001b[49m\n",
      "File \u001b[0;32m~/.pyenv/versions/3.10.12/envs/elephant-app/lib/python3.10/site-packages/sklearn/base.py:1473\u001b[0m, in \u001b[0;36m_fit_context.<locals>.decorator.<locals>.wrapper\u001b[0;34m(estimator, *args, **kwargs)\u001b[0m\n\u001b[1;32m   1466\u001b[0m     estimator\u001b[38;5;241m.\u001b[39m_validate_params()\n\u001b[1;32m   1468\u001b[0m \u001b[38;5;28;01mwith\u001b[39;00m config_context(\n\u001b[1;32m   1469\u001b[0m     skip_parameter_validation\u001b[38;5;241m=\u001b[39m(\n\u001b[1;32m   1470\u001b[0m         prefer_skip_nested_validation \u001b[38;5;129;01mor\u001b[39;00m global_skip_validation\n\u001b[1;32m   1471\u001b[0m     )\n\u001b[1;32m   1472\u001b[0m ):\n\u001b[0;32m-> 1473\u001b[0m     \u001b[38;5;28;01mreturn\u001b[39;00m \u001b[43mfit_method\u001b[49m\u001b[43m(\u001b[49m\u001b[43mestimator\u001b[49m\u001b[43m,\u001b[49m\u001b[43m \u001b[49m\u001b[38;5;241;43m*\u001b[39;49m\u001b[43margs\u001b[49m\u001b[43m,\u001b[49m\u001b[43m \u001b[49m\u001b[38;5;241;43m*\u001b[39;49m\u001b[38;5;241;43m*\u001b[39;49m\u001b[43mkwargs\u001b[49m\u001b[43m)\u001b[49m\n",
      "File \u001b[0;32m~/.pyenv/versions/3.10.12/envs/elephant-app/lib/python3.10/site-packages/sklearn/model_selection/_search.py:1018\u001b[0m, in \u001b[0;36mBaseSearchCV.fit\u001b[0;34m(self, X, y, **params)\u001b[0m\n\u001b[1;32m   1012\u001b[0m     results \u001b[38;5;241m=\u001b[39m \u001b[38;5;28mself\u001b[39m\u001b[38;5;241m.\u001b[39m_format_results(\n\u001b[1;32m   1013\u001b[0m         all_candidate_params, n_splits, all_out, all_more_results\n\u001b[1;32m   1014\u001b[0m     )\n\u001b[1;32m   1016\u001b[0m     \u001b[38;5;28;01mreturn\u001b[39;00m results\n\u001b[0;32m-> 1018\u001b[0m \u001b[38;5;28;43mself\u001b[39;49m\u001b[38;5;241;43m.\u001b[39;49m\u001b[43m_run_search\u001b[49m\u001b[43m(\u001b[49m\u001b[43mevaluate_candidates\u001b[49m\u001b[43m)\u001b[49m\n\u001b[1;32m   1020\u001b[0m \u001b[38;5;66;03m# multimetric is determined here because in the case of a callable\u001b[39;00m\n\u001b[1;32m   1021\u001b[0m \u001b[38;5;66;03m# self.scoring the return type is only known after calling\u001b[39;00m\n\u001b[1;32m   1022\u001b[0m first_test_score \u001b[38;5;241m=\u001b[39m all_out[\u001b[38;5;241m0\u001b[39m][\u001b[38;5;124m\"\u001b[39m\u001b[38;5;124mtest_scores\u001b[39m\u001b[38;5;124m\"\u001b[39m]\n",
      "File \u001b[0;32m~/.pyenv/versions/3.10.12/envs/elephant-app/lib/python3.10/site-packages/sklearn/model_selection/_search.py:1572\u001b[0m, in \u001b[0;36mGridSearchCV._run_search\u001b[0;34m(self, evaluate_candidates)\u001b[0m\n\u001b[1;32m   1570\u001b[0m \u001b[38;5;28;01mdef\u001b[39;00m \u001b[38;5;21m_run_search\u001b[39m(\u001b[38;5;28mself\u001b[39m, evaluate_candidates):\n\u001b[1;32m   1571\u001b[0m \u001b[38;5;250m    \u001b[39m\u001b[38;5;124;03m\"\"\"Search all candidates in param_grid\"\"\"\u001b[39;00m\n\u001b[0;32m-> 1572\u001b[0m     \u001b[43mevaluate_candidates\u001b[49m\u001b[43m(\u001b[49m\u001b[43mParameterGrid\u001b[49m\u001b[43m(\u001b[49m\u001b[38;5;28;43mself\u001b[39;49m\u001b[38;5;241;43m.\u001b[39;49m\u001b[43mparam_grid\u001b[49m\u001b[43m)\u001b[49m\u001b[43m)\u001b[49m\n",
      "File \u001b[0;32m~/.pyenv/versions/3.10.12/envs/elephant-app/lib/python3.10/site-packages/sklearn/model_selection/_search.py:964\u001b[0m, in \u001b[0;36mBaseSearchCV.fit.<locals>.evaluate_candidates\u001b[0;34m(candidate_params, cv, more_results)\u001b[0m\n\u001b[1;32m    956\u001b[0m \u001b[38;5;28;01mif\u001b[39;00m \u001b[38;5;28mself\u001b[39m\u001b[38;5;241m.\u001b[39mverbose \u001b[38;5;241m>\u001b[39m \u001b[38;5;241m0\u001b[39m:\n\u001b[1;32m    957\u001b[0m     \u001b[38;5;28mprint\u001b[39m(\n\u001b[1;32m    958\u001b[0m         \u001b[38;5;124m\"\u001b[39m\u001b[38;5;124mFitting \u001b[39m\u001b[38;5;132;01m{0}\u001b[39;00m\u001b[38;5;124m folds for each of \u001b[39m\u001b[38;5;132;01m{1}\u001b[39;00m\u001b[38;5;124m candidates,\u001b[39m\u001b[38;5;124m\"\u001b[39m\n\u001b[1;32m    959\u001b[0m         \u001b[38;5;124m\"\u001b[39m\u001b[38;5;124m totalling \u001b[39m\u001b[38;5;132;01m{2}\u001b[39;00m\u001b[38;5;124m fits\u001b[39m\u001b[38;5;124m\"\u001b[39m\u001b[38;5;241m.\u001b[39mformat(\n\u001b[1;32m    960\u001b[0m             n_splits, n_candidates, n_candidates \u001b[38;5;241m*\u001b[39m n_splits\n\u001b[1;32m    961\u001b[0m         )\n\u001b[1;32m    962\u001b[0m     )\n\u001b[0;32m--> 964\u001b[0m out \u001b[38;5;241m=\u001b[39m \u001b[43mparallel\u001b[49m\u001b[43m(\u001b[49m\n\u001b[1;32m    965\u001b[0m \u001b[43m    \u001b[49m\u001b[43mdelayed\u001b[49m\u001b[43m(\u001b[49m\u001b[43m_fit_and_score\u001b[49m\u001b[43m)\u001b[49m\u001b[43m(\u001b[49m\n\u001b[1;32m    966\u001b[0m \u001b[43m        \u001b[49m\u001b[43mclone\u001b[49m\u001b[43m(\u001b[49m\u001b[43mbase_estimator\u001b[49m\u001b[43m)\u001b[49m\u001b[43m,\u001b[49m\n\u001b[1;32m    967\u001b[0m \u001b[43m        \u001b[49m\u001b[43mX\u001b[49m\u001b[43m,\u001b[49m\n\u001b[1;32m    968\u001b[0m \u001b[43m        \u001b[49m\u001b[43my\u001b[49m\u001b[43m,\u001b[49m\n\u001b[1;32m    969\u001b[0m \u001b[43m        \u001b[49m\u001b[43mtrain\u001b[49m\u001b[38;5;241;43m=\u001b[39;49m\u001b[43mtrain\u001b[49m\u001b[43m,\u001b[49m\n\u001b[1;32m    970\u001b[0m \u001b[43m        \u001b[49m\u001b[43mtest\u001b[49m\u001b[38;5;241;43m=\u001b[39;49m\u001b[43mtest\u001b[49m\u001b[43m,\u001b[49m\n\u001b[1;32m    971\u001b[0m \u001b[43m        \u001b[49m\u001b[43mparameters\u001b[49m\u001b[38;5;241;43m=\u001b[39;49m\u001b[43mparameters\u001b[49m\u001b[43m,\u001b[49m\n\u001b[1;32m    972\u001b[0m \u001b[43m        \u001b[49m\u001b[43msplit_progress\u001b[49m\u001b[38;5;241;43m=\u001b[39;49m\u001b[43m(\u001b[49m\u001b[43msplit_idx\u001b[49m\u001b[43m,\u001b[49m\u001b[43m \u001b[49m\u001b[43mn_splits\u001b[49m\u001b[43m)\u001b[49m\u001b[43m,\u001b[49m\n\u001b[1;32m    973\u001b[0m \u001b[43m        \u001b[49m\u001b[43mcandidate_progress\u001b[49m\u001b[38;5;241;43m=\u001b[39;49m\u001b[43m(\u001b[49m\u001b[43mcand_idx\u001b[49m\u001b[43m,\u001b[49m\u001b[43m \u001b[49m\u001b[43mn_candidates\u001b[49m\u001b[43m)\u001b[49m\u001b[43m,\u001b[49m\n\u001b[1;32m    974\u001b[0m \u001b[43m        \u001b[49m\u001b[38;5;241;43m*\u001b[39;49m\u001b[38;5;241;43m*\u001b[39;49m\u001b[43mfit_and_score_kwargs\u001b[49m\u001b[43m,\u001b[49m\n\u001b[1;32m    975\u001b[0m \u001b[43m    \u001b[49m\u001b[43m)\u001b[49m\n\u001b[1;32m    976\u001b[0m \u001b[43m    \u001b[49m\u001b[38;5;28;43;01mfor\u001b[39;49;00m\u001b[43m \u001b[49m\u001b[43m(\u001b[49m\u001b[43mcand_idx\u001b[49m\u001b[43m,\u001b[49m\u001b[43m \u001b[49m\u001b[43mparameters\u001b[49m\u001b[43m)\u001b[49m\u001b[43m,\u001b[49m\u001b[43m \u001b[49m\u001b[43m(\u001b[49m\u001b[43msplit_idx\u001b[49m\u001b[43m,\u001b[49m\u001b[43m \u001b[49m\u001b[43m(\u001b[49m\u001b[43mtrain\u001b[49m\u001b[43m,\u001b[49m\u001b[43m \u001b[49m\u001b[43mtest\u001b[49m\u001b[43m)\u001b[49m\u001b[43m)\u001b[49m\u001b[43m \u001b[49m\u001b[38;5;129;43;01min\u001b[39;49;00m\u001b[43m \u001b[49m\u001b[43mproduct\u001b[49m\u001b[43m(\u001b[49m\n\u001b[1;32m    977\u001b[0m \u001b[43m        \u001b[49m\u001b[38;5;28;43menumerate\u001b[39;49m\u001b[43m(\u001b[49m\u001b[43mcandidate_params\u001b[49m\u001b[43m)\u001b[49m\u001b[43m,\u001b[49m\n\u001b[1;32m    978\u001b[0m \u001b[43m        \u001b[49m\u001b[38;5;28;43menumerate\u001b[39;49m\u001b[43m(\u001b[49m\u001b[43mcv\u001b[49m\u001b[38;5;241;43m.\u001b[39;49m\u001b[43msplit\u001b[49m\u001b[43m(\u001b[49m\u001b[43mX\u001b[49m\u001b[43m,\u001b[49m\u001b[43m \u001b[49m\u001b[43my\u001b[49m\u001b[43m,\u001b[49m\u001b[43m \u001b[49m\u001b[38;5;241;43m*\u001b[39;49m\u001b[38;5;241;43m*\u001b[39;49m\u001b[43mrouted_params\u001b[49m\u001b[38;5;241;43m.\u001b[39;49m\u001b[43msplitter\u001b[49m\u001b[38;5;241;43m.\u001b[39;49m\u001b[43msplit\u001b[49m\u001b[43m)\u001b[49m\u001b[43m)\u001b[49m\u001b[43m,\u001b[49m\n\u001b[1;32m    979\u001b[0m \u001b[43m    \u001b[49m\u001b[43m)\u001b[49m\n\u001b[1;32m    980\u001b[0m \u001b[43m\u001b[49m\u001b[43m)\u001b[49m\n\u001b[1;32m    982\u001b[0m \u001b[38;5;28;01mif\u001b[39;00m \u001b[38;5;28mlen\u001b[39m(out) \u001b[38;5;241m<\u001b[39m \u001b[38;5;241m1\u001b[39m:\n\u001b[1;32m    983\u001b[0m     \u001b[38;5;28;01mraise\u001b[39;00m \u001b[38;5;167;01mValueError\u001b[39;00m(\n\u001b[1;32m    984\u001b[0m         \u001b[38;5;124m\"\u001b[39m\u001b[38;5;124mNo fits were performed. \u001b[39m\u001b[38;5;124m\"\u001b[39m\n\u001b[1;32m    985\u001b[0m         \u001b[38;5;124m\"\u001b[39m\u001b[38;5;124mWas the CV iterator empty? \u001b[39m\u001b[38;5;124m\"\u001b[39m\n\u001b[1;32m    986\u001b[0m         \u001b[38;5;124m\"\u001b[39m\u001b[38;5;124mWere there no candidates?\u001b[39m\u001b[38;5;124m\"\u001b[39m\n\u001b[1;32m    987\u001b[0m     )\n",
      "File \u001b[0;32m~/.pyenv/versions/3.10.12/envs/elephant-app/lib/python3.10/site-packages/sklearn/utils/parallel.py:74\u001b[0m, in \u001b[0;36mParallel.__call__\u001b[0;34m(self, iterable)\u001b[0m\n\u001b[1;32m     69\u001b[0m config \u001b[38;5;241m=\u001b[39m get_config()\n\u001b[1;32m     70\u001b[0m iterable_with_config \u001b[38;5;241m=\u001b[39m (\n\u001b[1;32m     71\u001b[0m     (_with_config(delayed_func, config), args, kwargs)\n\u001b[1;32m     72\u001b[0m     \u001b[38;5;28;01mfor\u001b[39;00m delayed_func, args, kwargs \u001b[38;5;129;01min\u001b[39;00m iterable\n\u001b[1;32m     73\u001b[0m )\n\u001b[0;32m---> 74\u001b[0m \u001b[38;5;28;01mreturn\u001b[39;00m \u001b[38;5;28;43msuper\u001b[39;49m\u001b[43m(\u001b[49m\u001b[43m)\u001b[49m\u001b[38;5;241;43m.\u001b[39;49m\u001b[38;5;21;43m__call__\u001b[39;49m\u001b[43m(\u001b[49m\u001b[43miterable_with_config\u001b[49m\u001b[43m)\u001b[49m\n",
      "File \u001b[0;32m~/.pyenv/versions/3.10.12/envs/elephant-app/lib/python3.10/site-packages/joblib/parallel.py:1918\u001b[0m, in \u001b[0;36mParallel.__call__\u001b[0;34m(self, iterable)\u001b[0m\n\u001b[1;32m   1916\u001b[0m     output \u001b[38;5;241m=\u001b[39m \u001b[38;5;28mself\u001b[39m\u001b[38;5;241m.\u001b[39m_get_sequential_output(iterable)\n\u001b[1;32m   1917\u001b[0m     \u001b[38;5;28mnext\u001b[39m(output)\n\u001b[0;32m-> 1918\u001b[0m     \u001b[38;5;28;01mreturn\u001b[39;00m output \u001b[38;5;28;01mif\u001b[39;00m \u001b[38;5;28mself\u001b[39m\u001b[38;5;241m.\u001b[39mreturn_generator \u001b[38;5;28;01melse\u001b[39;00m \u001b[38;5;28;43mlist\u001b[39;49m\u001b[43m(\u001b[49m\u001b[43moutput\u001b[49m\u001b[43m)\u001b[49m\n\u001b[1;32m   1920\u001b[0m \u001b[38;5;66;03m# Let's create an ID that uniquely identifies the current call. If the\u001b[39;00m\n\u001b[1;32m   1921\u001b[0m \u001b[38;5;66;03m# call is interrupted early and that the same instance is immediately\u001b[39;00m\n\u001b[1;32m   1922\u001b[0m \u001b[38;5;66;03m# re-used, this id will be used to prevent workers that were\u001b[39;00m\n\u001b[1;32m   1923\u001b[0m \u001b[38;5;66;03m# concurrently finalizing a task from the previous call to run the\u001b[39;00m\n\u001b[1;32m   1924\u001b[0m \u001b[38;5;66;03m# callback.\u001b[39;00m\n\u001b[1;32m   1925\u001b[0m \u001b[38;5;28;01mwith\u001b[39;00m \u001b[38;5;28mself\u001b[39m\u001b[38;5;241m.\u001b[39m_lock:\n",
      "File \u001b[0;32m~/.pyenv/versions/3.10.12/envs/elephant-app/lib/python3.10/site-packages/joblib/parallel.py:1847\u001b[0m, in \u001b[0;36mParallel._get_sequential_output\u001b[0;34m(self, iterable)\u001b[0m\n\u001b[1;32m   1845\u001b[0m \u001b[38;5;28mself\u001b[39m\u001b[38;5;241m.\u001b[39mn_dispatched_batches \u001b[38;5;241m+\u001b[39m\u001b[38;5;241m=\u001b[39m \u001b[38;5;241m1\u001b[39m\n\u001b[1;32m   1846\u001b[0m \u001b[38;5;28mself\u001b[39m\u001b[38;5;241m.\u001b[39mn_dispatched_tasks \u001b[38;5;241m+\u001b[39m\u001b[38;5;241m=\u001b[39m \u001b[38;5;241m1\u001b[39m\n\u001b[0;32m-> 1847\u001b[0m res \u001b[38;5;241m=\u001b[39m \u001b[43mfunc\u001b[49m\u001b[43m(\u001b[49m\u001b[38;5;241;43m*\u001b[39;49m\u001b[43margs\u001b[49m\u001b[43m,\u001b[49m\u001b[43m \u001b[49m\u001b[38;5;241;43m*\u001b[39;49m\u001b[38;5;241;43m*\u001b[39;49m\u001b[43mkwargs\u001b[49m\u001b[43m)\u001b[49m\n\u001b[1;32m   1848\u001b[0m \u001b[38;5;28mself\u001b[39m\u001b[38;5;241m.\u001b[39mn_completed_tasks \u001b[38;5;241m+\u001b[39m\u001b[38;5;241m=\u001b[39m \u001b[38;5;241m1\u001b[39m\n\u001b[1;32m   1849\u001b[0m \u001b[38;5;28mself\u001b[39m\u001b[38;5;241m.\u001b[39mprint_progress()\n",
      "File \u001b[0;32m~/.pyenv/versions/3.10.12/envs/elephant-app/lib/python3.10/site-packages/sklearn/utils/parallel.py:136\u001b[0m, in \u001b[0;36m_FuncWrapper.__call__\u001b[0;34m(self, *args, **kwargs)\u001b[0m\n\u001b[1;32m    134\u001b[0m     config \u001b[38;5;241m=\u001b[39m {}\n\u001b[1;32m    135\u001b[0m \u001b[38;5;28;01mwith\u001b[39;00m config_context(\u001b[38;5;241m*\u001b[39m\u001b[38;5;241m*\u001b[39mconfig):\n\u001b[0;32m--> 136\u001b[0m     \u001b[38;5;28;01mreturn\u001b[39;00m \u001b[38;5;28;43mself\u001b[39;49m\u001b[38;5;241;43m.\u001b[39;49m\u001b[43mfunction\u001b[49m\u001b[43m(\u001b[49m\u001b[38;5;241;43m*\u001b[39;49m\u001b[43margs\u001b[49m\u001b[43m,\u001b[49m\u001b[43m \u001b[49m\u001b[38;5;241;43m*\u001b[39;49m\u001b[38;5;241;43m*\u001b[39;49m\u001b[43mkwargs\u001b[49m\u001b[43m)\u001b[49m\n",
      "File \u001b[0;32m~/.pyenv/versions/3.10.12/envs/elephant-app/lib/python3.10/site-packages/sklearn/model_selection/_validation.py:888\u001b[0m, in \u001b[0;36m_fit_and_score\u001b[0;34m(estimator, X, y, scorer, train, test, verbose, parameters, fit_params, score_params, return_train_score, return_parameters, return_n_test_samples, return_times, return_estimator, split_progress, candidate_progress, error_score)\u001b[0m\n\u001b[1;32m    886\u001b[0m         estimator\u001b[38;5;241m.\u001b[39mfit(X_train, \u001b[38;5;241m*\u001b[39m\u001b[38;5;241m*\u001b[39mfit_params)\n\u001b[1;32m    887\u001b[0m     \u001b[38;5;28;01melse\u001b[39;00m:\n\u001b[0;32m--> 888\u001b[0m         \u001b[43mestimator\u001b[49m\u001b[38;5;241;43m.\u001b[39;49m\u001b[43mfit\u001b[49m\u001b[43m(\u001b[49m\u001b[43mX_train\u001b[49m\u001b[43m,\u001b[49m\u001b[43m \u001b[49m\u001b[43my_train\u001b[49m\u001b[43m,\u001b[49m\u001b[43m \u001b[49m\u001b[38;5;241;43m*\u001b[39;49m\u001b[38;5;241;43m*\u001b[39;49m\u001b[43mfit_params\u001b[49m\u001b[43m)\u001b[49m\n\u001b[1;32m    890\u001b[0m \u001b[38;5;28;01mexcept\u001b[39;00m \u001b[38;5;167;01mException\u001b[39;00m:\n\u001b[1;32m    891\u001b[0m     \u001b[38;5;66;03m# Note fit time as time until error\u001b[39;00m\n\u001b[1;32m    892\u001b[0m     fit_time \u001b[38;5;241m=\u001b[39m time\u001b[38;5;241m.\u001b[39mtime() \u001b[38;5;241m-\u001b[39m start_time\n",
      "File \u001b[0;32m~/.pyenv/versions/3.10.12/envs/elephant-app/lib/python3.10/site-packages/sklearn/base.py:1473\u001b[0m, in \u001b[0;36m_fit_context.<locals>.decorator.<locals>.wrapper\u001b[0;34m(estimator, *args, **kwargs)\u001b[0m\n\u001b[1;32m   1466\u001b[0m     estimator\u001b[38;5;241m.\u001b[39m_validate_params()\n\u001b[1;32m   1468\u001b[0m \u001b[38;5;28;01mwith\u001b[39;00m config_context(\n\u001b[1;32m   1469\u001b[0m     skip_parameter_validation\u001b[38;5;241m=\u001b[39m(\n\u001b[1;32m   1470\u001b[0m         prefer_skip_nested_validation \u001b[38;5;129;01mor\u001b[39;00m global_skip_validation\n\u001b[1;32m   1471\u001b[0m     )\n\u001b[1;32m   1472\u001b[0m ):\n\u001b[0;32m-> 1473\u001b[0m     \u001b[38;5;28;01mreturn\u001b[39;00m \u001b[43mfit_method\u001b[49m\u001b[43m(\u001b[49m\u001b[43mestimator\u001b[49m\u001b[43m,\u001b[49m\u001b[43m \u001b[49m\u001b[38;5;241;43m*\u001b[39;49m\u001b[43margs\u001b[49m\u001b[43m,\u001b[49m\u001b[43m \u001b[49m\u001b[38;5;241;43m*\u001b[39;49m\u001b[38;5;241;43m*\u001b[39;49m\u001b[43mkwargs\u001b[49m\u001b[43m)\u001b[49m\n",
      "File \u001b[0;32m~/.pyenv/versions/3.10.12/envs/elephant-app/lib/python3.10/site-packages/sklearn/ensemble/_forest.py:489\u001b[0m, in \u001b[0;36mBaseForest.fit\u001b[0;34m(self, X, y, sample_weight)\u001b[0m\n\u001b[1;32m    478\u001b[0m trees \u001b[38;5;241m=\u001b[39m [\n\u001b[1;32m    479\u001b[0m     \u001b[38;5;28mself\u001b[39m\u001b[38;5;241m.\u001b[39m_make_estimator(append\u001b[38;5;241m=\u001b[39m\u001b[38;5;28;01mFalse\u001b[39;00m, random_state\u001b[38;5;241m=\u001b[39mrandom_state)\n\u001b[1;32m    480\u001b[0m     \u001b[38;5;28;01mfor\u001b[39;00m i \u001b[38;5;129;01min\u001b[39;00m \u001b[38;5;28mrange\u001b[39m(n_more_estimators)\n\u001b[1;32m    481\u001b[0m ]\n\u001b[1;32m    483\u001b[0m \u001b[38;5;66;03m# Parallel loop: we prefer the threading backend as the Cython code\u001b[39;00m\n\u001b[1;32m    484\u001b[0m \u001b[38;5;66;03m# for fitting the trees is internally releasing the Python GIL\u001b[39;00m\n\u001b[1;32m    485\u001b[0m \u001b[38;5;66;03m# making threading more efficient than multiprocessing in\u001b[39;00m\n\u001b[1;32m    486\u001b[0m \u001b[38;5;66;03m# that case. However, for joblib 0.12+ we respect any\u001b[39;00m\n\u001b[1;32m    487\u001b[0m \u001b[38;5;66;03m# parallel_backend contexts set at a higher level,\u001b[39;00m\n\u001b[1;32m    488\u001b[0m \u001b[38;5;66;03m# since correctness does not rely on using threads.\u001b[39;00m\n\u001b[0;32m--> 489\u001b[0m trees \u001b[38;5;241m=\u001b[39m \u001b[43mParallel\u001b[49m\u001b[43m(\u001b[49m\n\u001b[1;32m    490\u001b[0m \u001b[43m    \u001b[49m\u001b[43mn_jobs\u001b[49m\u001b[38;5;241;43m=\u001b[39;49m\u001b[38;5;28;43mself\u001b[39;49m\u001b[38;5;241;43m.\u001b[39;49m\u001b[43mn_jobs\u001b[49m\u001b[43m,\u001b[49m\n\u001b[1;32m    491\u001b[0m \u001b[43m    \u001b[49m\u001b[43mverbose\u001b[49m\u001b[38;5;241;43m=\u001b[39;49m\u001b[38;5;28;43mself\u001b[39;49m\u001b[38;5;241;43m.\u001b[39;49m\u001b[43mverbose\u001b[49m\u001b[43m,\u001b[49m\n\u001b[1;32m    492\u001b[0m \u001b[43m    \u001b[49m\u001b[43mprefer\u001b[49m\u001b[38;5;241;43m=\u001b[39;49m\u001b[38;5;124;43m\"\u001b[39;49m\u001b[38;5;124;43mthreads\u001b[39;49m\u001b[38;5;124;43m\"\u001b[39;49m\u001b[43m,\u001b[49m\n\u001b[1;32m    493\u001b[0m \u001b[43m\u001b[49m\u001b[43m)\u001b[49m\u001b[43m(\u001b[49m\n\u001b[1;32m    494\u001b[0m \u001b[43m    \u001b[49m\u001b[43mdelayed\u001b[49m\u001b[43m(\u001b[49m\u001b[43m_parallel_build_trees\u001b[49m\u001b[43m)\u001b[49m\u001b[43m(\u001b[49m\n\u001b[1;32m    495\u001b[0m \u001b[43m        \u001b[49m\u001b[43mt\u001b[49m\u001b[43m,\u001b[49m\n\u001b[1;32m    496\u001b[0m \u001b[43m        \u001b[49m\u001b[38;5;28;43mself\u001b[39;49m\u001b[38;5;241;43m.\u001b[39;49m\u001b[43mbootstrap\u001b[49m\u001b[43m,\u001b[49m\n\u001b[1;32m    497\u001b[0m \u001b[43m        \u001b[49m\u001b[43mX\u001b[49m\u001b[43m,\u001b[49m\n\u001b[1;32m    498\u001b[0m \u001b[43m        \u001b[49m\u001b[43my\u001b[49m\u001b[43m,\u001b[49m\n\u001b[1;32m    499\u001b[0m \u001b[43m        \u001b[49m\u001b[43msample_weight\u001b[49m\u001b[43m,\u001b[49m\n\u001b[1;32m    500\u001b[0m \u001b[43m        \u001b[49m\u001b[43mi\u001b[49m\u001b[43m,\u001b[49m\n\u001b[1;32m    501\u001b[0m \u001b[43m        \u001b[49m\u001b[38;5;28;43mlen\u001b[39;49m\u001b[43m(\u001b[49m\u001b[43mtrees\u001b[49m\u001b[43m)\u001b[49m\u001b[43m,\u001b[49m\n\u001b[1;32m    502\u001b[0m \u001b[43m        \u001b[49m\u001b[43mverbose\u001b[49m\u001b[38;5;241;43m=\u001b[39;49m\u001b[38;5;28;43mself\u001b[39;49m\u001b[38;5;241;43m.\u001b[39;49m\u001b[43mverbose\u001b[49m\u001b[43m,\u001b[49m\n\u001b[1;32m    503\u001b[0m \u001b[43m        \u001b[49m\u001b[43mclass_weight\u001b[49m\u001b[38;5;241;43m=\u001b[39;49m\u001b[38;5;28;43mself\u001b[39;49m\u001b[38;5;241;43m.\u001b[39;49m\u001b[43mclass_weight\u001b[49m\u001b[43m,\u001b[49m\n\u001b[1;32m    504\u001b[0m \u001b[43m        \u001b[49m\u001b[43mn_samples_bootstrap\u001b[49m\u001b[38;5;241;43m=\u001b[39;49m\u001b[43mn_samples_bootstrap\u001b[49m\u001b[43m,\u001b[49m\n\u001b[1;32m    505\u001b[0m \u001b[43m        \u001b[49m\u001b[43mmissing_values_in_feature_mask\u001b[49m\u001b[38;5;241;43m=\u001b[39;49m\u001b[43mmissing_values_in_feature_mask\u001b[49m\u001b[43m,\u001b[49m\n\u001b[1;32m    506\u001b[0m \u001b[43m    \u001b[49m\u001b[43m)\u001b[49m\n\u001b[1;32m    507\u001b[0m \u001b[43m    \u001b[49m\u001b[38;5;28;43;01mfor\u001b[39;49;00m\u001b[43m \u001b[49m\u001b[43mi\u001b[49m\u001b[43m,\u001b[49m\u001b[43m \u001b[49m\u001b[43mt\u001b[49m\u001b[43m \u001b[49m\u001b[38;5;129;43;01min\u001b[39;49;00m\u001b[43m \u001b[49m\u001b[38;5;28;43menumerate\u001b[39;49m\u001b[43m(\u001b[49m\u001b[43mtrees\u001b[49m\u001b[43m)\u001b[49m\n\u001b[1;32m    508\u001b[0m \u001b[43m\u001b[49m\u001b[43m)\u001b[49m\n\u001b[1;32m    510\u001b[0m \u001b[38;5;66;03m# Collect newly grown trees\u001b[39;00m\n\u001b[1;32m    511\u001b[0m \u001b[38;5;28mself\u001b[39m\u001b[38;5;241m.\u001b[39mestimators_\u001b[38;5;241m.\u001b[39mextend(trees)\n",
      "File \u001b[0;32m~/.pyenv/versions/3.10.12/envs/elephant-app/lib/python3.10/site-packages/sklearn/utils/parallel.py:74\u001b[0m, in \u001b[0;36mParallel.__call__\u001b[0;34m(self, iterable)\u001b[0m\n\u001b[1;32m     69\u001b[0m config \u001b[38;5;241m=\u001b[39m get_config()\n\u001b[1;32m     70\u001b[0m iterable_with_config \u001b[38;5;241m=\u001b[39m (\n\u001b[1;32m     71\u001b[0m     (_with_config(delayed_func, config), args, kwargs)\n\u001b[1;32m     72\u001b[0m     \u001b[38;5;28;01mfor\u001b[39;00m delayed_func, args, kwargs \u001b[38;5;129;01min\u001b[39;00m iterable\n\u001b[1;32m     73\u001b[0m )\n\u001b[0;32m---> 74\u001b[0m \u001b[38;5;28;01mreturn\u001b[39;00m \u001b[38;5;28;43msuper\u001b[39;49m\u001b[43m(\u001b[49m\u001b[43m)\u001b[49m\u001b[38;5;241;43m.\u001b[39;49m\u001b[38;5;21;43m__call__\u001b[39;49m\u001b[43m(\u001b[49m\u001b[43miterable_with_config\u001b[49m\u001b[43m)\u001b[49m\n",
      "File \u001b[0;32m~/.pyenv/versions/3.10.12/envs/elephant-app/lib/python3.10/site-packages/joblib/parallel.py:1918\u001b[0m, in \u001b[0;36mParallel.__call__\u001b[0;34m(self, iterable)\u001b[0m\n\u001b[1;32m   1916\u001b[0m     output \u001b[38;5;241m=\u001b[39m \u001b[38;5;28mself\u001b[39m\u001b[38;5;241m.\u001b[39m_get_sequential_output(iterable)\n\u001b[1;32m   1917\u001b[0m     \u001b[38;5;28mnext\u001b[39m(output)\n\u001b[0;32m-> 1918\u001b[0m     \u001b[38;5;28;01mreturn\u001b[39;00m output \u001b[38;5;28;01mif\u001b[39;00m \u001b[38;5;28mself\u001b[39m\u001b[38;5;241m.\u001b[39mreturn_generator \u001b[38;5;28;01melse\u001b[39;00m \u001b[38;5;28;43mlist\u001b[39;49m\u001b[43m(\u001b[49m\u001b[43moutput\u001b[49m\u001b[43m)\u001b[49m\n\u001b[1;32m   1920\u001b[0m \u001b[38;5;66;03m# Let's create an ID that uniquely identifies the current call. If the\u001b[39;00m\n\u001b[1;32m   1921\u001b[0m \u001b[38;5;66;03m# call is interrupted early and that the same instance is immediately\u001b[39;00m\n\u001b[1;32m   1922\u001b[0m \u001b[38;5;66;03m# re-used, this id will be used to prevent workers that were\u001b[39;00m\n\u001b[1;32m   1923\u001b[0m \u001b[38;5;66;03m# concurrently finalizing a task from the previous call to run the\u001b[39;00m\n\u001b[1;32m   1924\u001b[0m \u001b[38;5;66;03m# callback.\u001b[39;00m\n\u001b[1;32m   1925\u001b[0m \u001b[38;5;28;01mwith\u001b[39;00m \u001b[38;5;28mself\u001b[39m\u001b[38;5;241m.\u001b[39m_lock:\n",
      "File \u001b[0;32m~/.pyenv/versions/3.10.12/envs/elephant-app/lib/python3.10/site-packages/joblib/parallel.py:1847\u001b[0m, in \u001b[0;36mParallel._get_sequential_output\u001b[0;34m(self, iterable)\u001b[0m\n\u001b[1;32m   1845\u001b[0m \u001b[38;5;28mself\u001b[39m\u001b[38;5;241m.\u001b[39mn_dispatched_batches \u001b[38;5;241m+\u001b[39m\u001b[38;5;241m=\u001b[39m \u001b[38;5;241m1\u001b[39m\n\u001b[1;32m   1846\u001b[0m \u001b[38;5;28mself\u001b[39m\u001b[38;5;241m.\u001b[39mn_dispatched_tasks \u001b[38;5;241m+\u001b[39m\u001b[38;5;241m=\u001b[39m \u001b[38;5;241m1\u001b[39m\n\u001b[0;32m-> 1847\u001b[0m res \u001b[38;5;241m=\u001b[39m \u001b[43mfunc\u001b[49m\u001b[43m(\u001b[49m\u001b[38;5;241;43m*\u001b[39;49m\u001b[43margs\u001b[49m\u001b[43m,\u001b[49m\u001b[43m \u001b[49m\u001b[38;5;241;43m*\u001b[39;49m\u001b[38;5;241;43m*\u001b[39;49m\u001b[43mkwargs\u001b[49m\u001b[43m)\u001b[49m\n\u001b[1;32m   1848\u001b[0m \u001b[38;5;28mself\u001b[39m\u001b[38;5;241m.\u001b[39mn_completed_tasks \u001b[38;5;241m+\u001b[39m\u001b[38;5;241m=\u001b[39m \u001b[38;5;241m1\u001b[39m\n\u001b[1;32m   1849\u001b[0m \u001b[38;5;28mself\u001b[39m\u001b[38;5;241m.\u001b[39mprint_progress()\n",
      "File \u001b[0;32m~/.pyenv/versions/3.10.12/envs/elephant-app/lib/python3.10/site-packages/sklearn/utils/parallel.py:136\u001b[0m, in \u001b[0;36m_FuncWrapper.__call__\u001b[0;34m(self, *args, **kwargs)\u001b[0m\n\u001b[1;32m    134\u001b[0m     config \u001b[38;5;241m=\u001b[39m {}\n\u001b[1;32m    135\u001b[0m \u001b[38;5;28;01mwith\u001b[39;00m config_context(\u001b[38;5;241m*\u001b[39m\u001b[38;5;241m*\u001b[39mconfig):\n\u001b[0;32m--> 136\u001b[0m     \u001b[38;5;28;01mreturn\u001b[39;00m \u001b[38;5;28;43mself\u001b[39;49m\u001b[38;5;241;43m.\u001b[39;49m\u001b[43mfunction\u001b[49m\u001b[43m(\u001b[49m\u001b[38;5;241;43m*\u001b[39;49m\u001b[43margs\u001b[49m\u001b[43m,\u001b[49m\u001b[43m \u001b[49m\u001b[38;5;241;43m*\u001b[39;49m\u001b[38;5;241;43m*\u001b[39;49m\u001b[43mkwargs\u001b[49m\u001b[43m)\u001b[49m\n",
      "File \u001b[0;32m~/.pyenv/versions/3.10.12/envs/elephant-app/lib/python3.10/site-packages/sklearn/ensemble/_forest.py:192\u001b[0m, in \u001b[0;36m_parallel_build_trees\u001b[0;34m(tree, bootstrap, X, y, sample_weight, tree_idx, n_trees, verbose, class_weight, n_samples_bootstrap, missing_values_in_feature_mask)\u001b[0m\n\u001b[1;32m    189\u001b[0m     \u001b[38;5;28;01melif\u001b[39;00m class_weight \u001b[38;5;241m==\u001b[39m \u001b[38;5;124m\"\u001b[39m\u001b[38;5;124mbalanced_subsample\u001b[39m\u001b[38;5;124m\"\u001b[39m:\n\u001b[1;32m    190\u001b[0m         curr_sample_weight \u001b[38;5;241m*\u001b[39m\u001b[38;5;241m=\u001b[39m compute_sample_weight(\u001b[38;5;124m\"\u001b[39m\u001b[38;5;124mbalanced\u001b[39m\u001b[38;5;124m\"\u001b[39m, y, indices\u001b[38;5;241m=\u001b[39mindices)\n\u001b[0;32m--> 192\u001b[0m     \u001b[43mtree\u001b[49m\u001b[38;5;241;43m.\u001b[39;49m\u001b[43m_fit\u001b[49m\u001b[43m(\u001b[49m\n\u001b[1;32m    193\u001b[0m \u001b[43m        \u001b[49m\u001b[43mX\u001b[49m\u001b[43m,\u001b[49m\n\u001b[1;32m    194\u001b[0m \u001b[43m        \u001b[49m\u001b[43my\u001b[49m\u001b[43m,\u001b[49m\n\u001b[1;32m    195\u001b[0m \u001b[43m        \u001b[49m\u001b[43msample_weight\u001b[49m\u001b[38;5;241;43m=\u001b[39;49m\u001b[43mcurr_sample_weight\u001b[49m\u001b[43m,\u001b[49m\n\u001b[1;32m    196\u001b[0m \u001b[43m        \u001b[49m\u001b[43mcheck_input\u001b[49m\u001b[38;5;241;43m=\u001b[39;49m\u001b[38;5;28;43;01mFalse\u001b[39;49;00m\u001b[43m,\u001b[49m\n\u001b[1;32m    197\u001b[0m \u001b[43m        \u001b[49m\u001b[43mmissing_values_in_feature_mask\u001b[49m\u001b[38;5;241;43m=\u001b[39;49m\u001b[43mmissing_values_in_feature_mask\u001b[49m\u001b[43m,\u001b[49m\n\u001b[1;32m    198\u001b[0m \u001b[43m    \u001b[49m\u001b[43m)\u001b[49m\n\u001b[1;32m    199\u001b[0m \u001b[38;5;28;01melse\u001b[39;00m:\n\u001b[1;32m    200\u001b[0m     tree\u001b[38;5;241m.\u001b[39m_fit(\n\u001b[1;32m    201\u001b[0m         X,\n\u001b[1;32m    202\u001b[0m         y,\n\u001b[0;32m   (...)\u001b[0m\n\u001b[1;32m    205\u001b[0m         missing_values_in_feature_mask\u001b[38;5;241m=\u001b[39mmissing_values_in_feature_mask,\n\u001b[1;32m    206\u001b[0m     )\n",
      "File \u001b[0;32m~/.pyenv/versions/3.10.12/envs/elephant-app/lib/python3.10/site-packages/sklearn/tree/_classes.py:472\u001b[0m, in \u001b[0;36mBaseDecisionTree._fit\u001b[0;34m(self, X, y, sample_weight, check_input, missing_values_in_feature_mask)\u001b[0m\n\u001b[1;32m    461\u001b[0m \u001b[38;5;28;01melse\u001b[39;00m:\n\u001b[1;32m    462\u001b[0m     builder \u001b[38;5;241m=\u001b[39m BestFirstTreeBuilder(\n\u001b[1;32m    463\u001b[0m         splitter,\n\u001b[1;32m    464\u001b[0m         min_samples_split,\n\u001b[0;32m   (...)\u001b[0m\n\u001b[1;32m    469\u001b[0m         \u001b[38;5;28mself\u001b[39m\u001b[38;5;241m.\u001b[39mmin_impurity_decrease,\n\u001b[1;32m    470\u001b[0m     )\n\u001b[0;32m--> 472\u001b[0m \u001b[43mbuilder\u001b[49m\u001b[38;5;241;43m.\u001b[39;49m\u001b[43mbuild\u001b[49m\u001b[43m(\u001b[49m\u001b[38;5;28;43mself\u001b[39;49m\u001b[38;5;241;43m.\u001b[39;49m\u001b[43mtree_\u001b[49m\u001b[43m,\u001b[49m\u001b[43m \u001b[49m\u001b[43mX\u001b[49m\u001b[43m,\u001b[49m\u001b[43m \u001b[49m\u001b[43my\u001b[49m\u001b[43m,\u001b[49m\u001b[43m \u001b[49m\u001b[43msample_weight\u001b[49m\u001b[43m,\u001b[49m\u001b[43m \u001b[49m\u001b[43mmissing_values_in_feature_mask\u001b[49m\u001b[43m)\u001b[49m\n\u001b[1;32m    474\u001b[0m \u001b[38;5;28;01mif\u001b[39;00m \u001b[38;5;28mself\u001b[39m\u001b[38;5;241m.\u001b[39mn_outputs_ \u001b[38;5;241m==\u001b[39m \u001b[38;5;241m1\u001b[39m \u001b[38;5;129;01mand\u001b[39;00m is_classifier(\u001b[38;5;28mself\u001b[39m):\n\u001b[1;32m    475\u001b[0m     \u001b[38;5;28mself\u001b[39m\u001b[38;5;241m.\u001b[39mn_classes_ \u001b[38;5;241m=\u001b[39m \u001b[38;5;28mself\u001b[39m\u001b[38;5;241m.\u001b[39mn_classes_[\u001b[38;5;241m0\u001b[39m]\n",
      "\u001b[0;31mKeyboardInterrupt\u001b[0m: "
     ]
    }
   ],
   "source": [
    "from sklearn.model_selection import GridSearchCV \n",
    "\n",
    "params = {\"n_estimators\":[50,100,200],\n",
    "           #\"max_depth\": [None,10,15,20],\n",
    "           #\"min_samples_leaf\":[1,2,5,10], \n",
    "           #\"bootstrap\": [True,False]\n",
    "\n",
    "}\n",
    "\n",
    "\n",
    "search = GridSearchCV(RandomForestRegressor()\n",
    "                     ,params\n",
    "                     ,verbose = 10)\n",
    "\n",
    "search.fit(X_train\n",
    "          ,y_train)\n"
   ]
  },
  {
   "cell_type": "code",
   "execution_count": null,
   "id": "ef1866db",
   "metadata": {
    "ExecuteTime": {
     "end_time": "2024-09-05T12:09:45.073936Z",
     "start_time": "2024-09-05T12:09:45.073929Z"
    }
   },
   "outputs": [],
   "source": [
    "search.best_estimator_"
   ]
  },
  {
   "cell_type": "code",
   "execution_count": null,
   "id": "9076a247",
   "metadata": {
    "ExecuteTime": {
     "end_time": "2024-09-05T12:09:45.074812Z",
     "start_time": "2024-09-05T12:09:45.074806Z"
    }
   },
   "outputs": [],
   "source": [
    "search.best_params_"
   ]
  },
  {
   "cell_type": "code",
   "execution_count": null,
   "id": "7b68a51a",
   "metadata": {
    "ExecuteTime": {
     "end_time": "2024-09-05T12:09:45.076002Z",
     "start_time": "2024-09-05T12:09:45.075997Z"
    }
   },
   "outputs": [],
   "source": [
    "search.score(X_test,y_test)"
   ]
  },
  {
   "cell_type": "code",
   "execution_count": null,
   "id": "ca976f55",
   "metadata": {
    "ExecuteTime": {
     "end_time": "2024-09-05T12:09:45.076687Z",
     "start_time": "2024-09-05T12:09:45.076680Z"
    }
   },
   "outputs": [],
   "source": [
    "mean_absolute_error(search.predict(X_test),y_test)"
   ]
  },
  {
   "cell_type": "markdown",
   "id": "81b5eb43",
   "metadata": {},
   "source": [
    "## Training on whole Data"
   ]
  },
  {
   "cell_type": "code",
   "execution_count": null,
   "id": "5c0735f5",
   "metadata": {
    "ExecuteTime": {
     "end_time": "2024-09-05T12:09:45.077770Z",
     "start_time": "2024-09-05T12:09:45.077764Z"
    }
   },
   "outputs": [],
   "source": [
    "def f(a,b=4) :\n",
    "    print(a,b)\n",
    "    \n",
    "f(**{\"a\":3,\"b\":5})"
   ]
  },
  {
   "cell_type": "code",
   "execution_count": null,
   "id": "46c89b10",
   "metadata": {
    "ExecuteTime": {
     "end_time": "2024-09-05T12:17:49.488510Z",
     "start_time": "2024-09-05T12:17:49.464692Z"
    }
   },
   "outputs": [],
   "source": [
    "best_model = RandomForestRegressor(**search.best_params_)\n",
    "X_total = pd.concat([X_train,X_test])\n",
    "y_total = pd.concat([y_train,y_test])\n",
    "best_model.fit(X_total,y_total)"
   ]
  },
  {
   "cell_type": "markdown",
   "id": "87444a93",
   "metadata": {},
   "source": [
    "# Pipeline \n",
    "\n",
    "A pipeline is a way to wrap our processor + model in one "
   ]
  },
  {
   "cell_type": "markdown",
   "id": "3f06de0d",
   "metadata": {},
   "source": [
    "## Saving model without Pipeline"
   ]
  },
  {
   "cell_type": "code",
   "execution_count": null,
   "id": "88a8aed7",
   "metadata": {
    "ExecuteTime": {
     "end_time": "2024-09-05T12:09:45.079432Z",
     "start_time": "2024-09-05T12:09:45.079426Z"
    }
   },
   "outputs": [],
   "source": [
    "import pickle, joblib\n",
    "\n",
    "# Reminder : Saving model\n",
    "with open(\"model.pickle\",\"wb\") as file : \n",
    "    joblib.dump(best_model,file)"
   ]
  },
  {
   "cell_type": "code",
   "execution_count": null,
   "id": "7e9673b3",
   "metadata": {
    "ExecuteTime": {
     "end_time": "2024-09-05T12:09:45.080511Z",
     "start_time": "2024-09-05T12:09:45.080505Z"
    }
   },
   "outputs": [],
   "source": [
    "\n",
    "# Loading model \n",
    "with open(\"model.pickle\",\"rb\") as file : \n",
    "    new_model = joblib.load(file)\n",
    "    \n"
   ]
  },
  {
   "cell_type": "markdown",
   "id": "096c278d",
   "metadata": {},
   "source": [
    "## Pipeline"
   ]
  },
  {
   "cell_type": "code",
   "execution_count": null,
   "id": "de4e11a9",
   "metadata": {
    "ExecuteTime": {
     "end_time": "2024-09-05T12:10:12.449846Z",
     "start_time": "2024-09-05T12:10:12.446097Z"
    }
   },
   "outputs": [],
   "source": [
    "from sklearn.pipeline import Pipeline,make_pipeline\n",
    "from sklearn.compose import make_column_selector\n",
    "from sklearn.compose import ColumnTransformer\n"
   ]
  },
  {
   "cell_type": "code",
   "execution_count": null,
   "id": "5eeab338",
   "metadata": {
    "ExecuteTime": {
     "end_time": "2024-09-05T12:10:12.651057Z",
     "start_time": "2024-09-05T12:10:12.619721Z"
    }
   },
   "outputs": [],
   "source": [
    "num_preproc_pipe = Pipeline([(\"Imputer\",SimpleImputer())\n",
    "                             ,(\"Scaling\",StandardScaler())\n",
    "                            ])\n",
    "\n",
    "cat_preproc_pipe = Pipeline([(\"imputer\",SimpleImputer(strategy=\"most_frequent\"))\n",
    "                             ,(\"Encode\",OneHotEncoder(drop=\"first\",\n",
    "                                                      handle_unknown=\"ignore\"\n",
    "                                                      ))\n",
    "    \n",
    "                            ])\n",
    "preproc_pipe = ColumnTransformer([(\"NumPreproc\",num_preproc_pipe,make_column_selector(dtype_include=\"number\"))\n",
    "                    ,(\"CatPreproc\",cat_preproc_pipe,make_column_selector(dtype_include=\"object\"))\n",
    "                                 ])\n",
    "preproc_pipe"
   ]
  },
  {
   "cell_type": "code",
   "execution_count": null,
   "id": "ee9e14bb",
   "metadata": {
    "ExecuteTime": {
     "end_time": "2024-09-05T12:19:28.423787Z",
     "start_time": "2024-09-05T12:19:28.358811Z"
    }
   },
   "outputs": [],
   "source": [
    "from sklearn.ensemble import VotingRegressor\n",
    "\n",
    "\n",
    "final_pipe = Pipeline([(\"Fulpreproc\",preproc_pipe)\n",
    "                      ,(\"Voting\",VotingRegressor([(\"rand\",RandomForestRegressor(min_samples_leaf=5))\n",
    "                                                 ,(\"lin\",LinearRegression())\n",
    "                                                  ,(\"knn\",KNeighborsRegressor())\n",
    "                                                 ])\n",
    "                       )])\n",
    "final_pipe"
   ]
  },
  {
   "cell_type": "code",
   "execution_count": null,
   "id": "dacd15ec",
   "metadata": {
    "ExecuteTime": {
     "end_time": "2024-09-05T12:19:31.382335Z",
     "start_time": "2024-09-05T12:19:30.455270Z"
    }
   },
   "outputs": [],
   "source": [
    "final_pipe.fit(X_total,y_total)"
   ]
  },
  {
   "cell_type": "code",
   "execution_count": null,
   "id": "d7d93f1b",
   "metadata": {
    "ExecuteTime": {
     "end_time": "2024-09-05T12:21:22.896431Z",
     "start_time": "2024-09-05T12:21:22.893471Z"
    }
   },
   "outputs": [],
   "source": [
    "import os"
   ]
  },
  {
   "cell_type": "code",
   "execution_count": null,
   "id": "8e134d45",
   "metadata": {
    "ExecuteTime": {
     "end_time": "2024-09-05T12:20:31.538626Z",
     "start_time": "2024-09-05T12:20:31.510568Z"
    }
   },
   "outputs": [],
   "source": [
    "final_preproc = final_pipe.steps[0][1]\n",
    "\n",
    "if not os.path.exists(\"../models\") :\n",
    "    os.mkdir(\"models\")\n",
    "\n",
    "with open(\"../models/preproc.pickle\",\"wb\") as file :\n",
    "    joblib.dump(final_preproc,file)\n",
    "\n",
    "with open(\"../models/preproc.pickle\",\"rb\") as file :\n",
    "    loaded_final_preproc = joblib.load(file)\n",
    "\n",
    "\n",
    "\n",
    "    \n",
    "loaded_final_preproc"
   ]
  }
 ],
 "metadata": {
  "kernelspec": {
   "display_name": "Python 3 (ipykernel)",
   "language": "python",
   "name": "python3"
  },
  "language_info": {
   "codemirror_mode": {
    "name": "ipython",
    "version": 3
   },
   "file_extension": ".py",
   "mimetype": "text/x-python",
   "name": "python",
   "nbconvert_exporter": "python",
   "pygments_lexer": "ipython3",
   "version": "3.10.12"
  },
  "toc": {
   "base_numbering": 1,
   "nav_menu": {},
   "number_sections": true,
   "sideBar": true,
   "skip_h1_title": false,
   "title_cell": "Table of Contents",
   "title_sidebar": "Contents",
   "toc_cell": false,
   "toc_position": {
    "height": "calc(100% - 180px)",
    "left": "10px",
    "top": "150px",
    "width": "268.8px"
   },
   "toc_section_display": true,
   "toc_window_display": true
  }
 },
 "nbformat": 4,
 "nbformat_minor": 5
}
